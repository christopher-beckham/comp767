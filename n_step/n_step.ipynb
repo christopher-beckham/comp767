{
 "cells": [
  {
   "cell_type": "code",
   "execution_count": 1,
   "metadata": {
    "collapsed": false
   },
   "outputs": [
    {
     "name": "stderr",
     "output_type": "stream",
     "text": [
      "[2017-02-27 13:33:55,550] You have 'numpy' version 1.10.1 installed, but 'gym' requires at least 1.10.4. HINT: upgrade via 'pip install -U numpy'.\n"
     ]
    }
   ],
   "source": [
    "import gym\n",
    "import numpy as np\n",
    "import sys\n",
    "from gym.envs.toy_text import discrete\n",
    "import matplotlib.pyplot as plt\n",
    "%matplotlib inline\n",
    "from IPython.display import Image\n",
    "np.random.seed(0)"
   ]
  },
  {
   "cell_type": "code",
   "execution_count": 17,
   "metadata": {
    "collapsed": true
   },
   "outputs": [],
   "source": [
    "import itertools"
   ]
  },
  {
   "cell_type": "code",
   "execution_count": 2,
   "metadata": {
    "collapsed": true
   },
   "outputs": [],
   "source": [
    "class RandomWalk(discrete.DiscreteEnv):\n",
    "    metadata = {'render.modes':['human','ansi']}\n",
    "    def __init__(self):\n",
    "        self.shape = (7,)\n",
    "        nS = np.prod(self.shape)\n",
    "        nA = 2\n",
    "        # calculate transition probabilities\n",
    "        self.LEFT = 0\n",
    "        self.RIGHT = 1\n",
    "        P = {}\n",
    "        for s in range(nS):\n",
    "            P[s] = {a : [] for a in range(nA) }\n",
    "            # observation, new_state, reward, is_done\n",
    "            P[s][self.LEFT] = [(1.0, max(0, s-1), 0, True if max(0, s-1) == 0 else False)]\n",
    "            P[s][self.RIGHT] = [(1.0, min(nS-1, s+1), 0, True if min(nS-1,s+1) == (nS-1) else False)]\n",
    "        # the transition from E to RT is 1\n",
    "        P[5][self.RIGHT] = [(1.0, 6, 1, True)]\n",
    "        \n",
    "        # we always start in state C (which is 3)\n",
    "        isd = np.zeros(nS)\n",
    "        isd[3] = 1.0\n",
    "        \n",
    "        super(RandomWalk, self).__init__(nS, nA, P, isd)\n",
    "        \n",
    "    def _step(self, a):\n",
    "        transitions = self.P[self.s][a]\n",
    "        p, s, r, d = transitions[0]\n",
    "        self.s = s\n",
    "        self.lastaction=a\n",
    "        return (s, r, d, {\"prob\" : p})\n",
    "    \n",
    "    def _render(self, mode='human', close=False):\n",
    "        if close:\n",
    "            return\n",
    "        outfile = StringIO() if mode == 'ansi' else sys.stdout\n",
    "        st = ['LT', 'A', 'B', 'C', 'D', 'E', 'RT']\n",
    "        st[self.s] = '(' + st[self.s] + ')'\n",
    "        outfile.write(\" \".join(st))\n",
    "        outfile.write(\"\\n\")"
   ]
  },
  {
   "cell_type": "markdown",
   "metadata": {},
   "source": [
    "Test the game when we go all left"
   ]
  },
  {
   "cell_type": "code",
   "execution_count": 8,
   "metadata": {
    "collapsed": false
   },
   "outputs": [
    {
     "name": "stdout",
     "output_type": "stream",
     "text": [
      "LT A B (C) D E RT\n",
      "(2, 0, False, {'prob': 1.0})\n",
      "LT A (B) C D E RT\n",
      "(1, 0, False, {'prob': 1.0})\n",
      "LT (A) B C D E RT\n"
     ]
    }
   ],
   "source": [
    "env = RandomWalk()\n",
    "env.render()\n",
    "print env.step(0)\n",
    "env.render()\n",
    "print env.step(0)\n",
    "env.render()"
   ]
  },
  {
   "cell_type": "markdown",
   "metadata": {},
   "source": [
    "Test the game when we go all right"
   ]
  },
  {
   "cell_type": "code",
   "execution_count": 14,
   "metadata": {
    "collapsed": false
   },
   "outputs": [
    {
     "name": "stdout",
     "output_type": "stream",
     "text": [
      "LT A B (C) D E RT\n",
      "(4, 0, False, {'prob': 1.0})\n",
      "LT A B C (D) E RT\n",
      "(5, 0, False, {'prob': 1.0})\n",
      "LT A B C D (E) RT\n",
      "(6, 1, True, {'prob': 1.0})\n"
     ]
    }
   ],
   "source": [
    "env = RandomWalk()\n",
    "env.render()\n",
    "print env.step(1)\n",
    "env.render()\n",
    "print env.step(1)\n",
    "env.render()\n",
    "print env.step(1)"
   ]
  },
  {
   "cell_type": "markdown",
   "metadata": {},
   "source": [
    "-------"
   ]
  },
  {
   "cell_type": "markdown",
   "metadata": {},
   "source": [
    "We present the algorithm for an n-step policy evaluation"
   ]
  },
  {
   "cell_type": "code",
   "execution_count": 237,
   "metadata": {
    "collapsed": true
   },
   "outputs": [],
   "source": [
    "def n_step_td_estimate(env, policy, num_episodes, alpha, gamma, n, debug=False):\n",
    "    # intialise V(s) arbitrarily\n",
    "    V = np.zeros(env.nS)\n",
    "    # repeat for each episode\n",
    "    for num_episode in range(num_episodes):\n",
    "        if debug:\n",
    "            print \"iter:\", num_episode\n",
    "        env.reset()\n",
    "        T = np.inf\n",
    "        rewards = dict() # TODO: not efficient\n",
    "        states = dict()\n",
    "        states[0] = env.s\n",
    "        for t in itertools.count():\n",
    "            #print t, states, V\n",
    "            if t < T:\n",
    "                # take an action according to the policy\n",
    "                action = policy(env.s)\n",
    "                _, R, is_done, _ = env.step(action)\n",
    "                # observe and store the next reward as R_{t+1}, and the next state as S_{t+1}\n",
    "                rewards[t+1] = R\n",
    "                states[t+1] = env.s\n",
    "                # if S_{t+1} is terminal, then T = t - 1\n",
    "                if is_done:\n",
    "                    T = t+1\n",
    "            tau = t - n + 1\n",
    "            #print tau\n",
    "            if tau >= 0:\n",
    "                if debug:\n",
    "                    print \"updating state %i,\" % states[tau],\n",
    "                G = 0\n",
    "                for i in range(tau+1, min(tau+n, T)+1):\n",
    "                    G += ((gamma**(i-tau-1))*rewards[i])\n",
    "                if tau + n < T:\n",
    "                    G = G + (gamma**n)*V[ states[tau+n] ]\n",
    "                if debug:\n",
    "                    print \"G = %i,\" % G,\n",
    "                    print \"V of state %i is %f\" % (states[tau], V[states[tau]])\n",
    "                V[ states[tau] ] += alpha*(G - V[ states[tau] ])\n",
    "            if tau == T-1:\n",
    "                break\n",
    "    if debug:\n",
    "        print\n",
    "    return V"
   ]
  },
  {
   "cell_type": "markdown",
   "metadata": {},
   "source": [
    "If we're following an always-right-walk policy, we expect that all states to the right of C receive a value of 1 (since whenever we are in these states, we will move right eventually hitting the terminal with a reward of 1)"
   ]
  },
  {
   "cell_type": "code",
   "execution_count": 119,
   "metadata": {
    "collapsed": true
   },
   "outputs": [],
   "source": [
    "def right_walk_policy(state):\n",
    "    LEFT, RIGHT = 0, 1\n",
    "    return RIGHT"
   ]
  },
  {
   "cell_type": "code",
   "execution_count": 121,
   "metadata": {
    "collapsed": false
   },
   "outputs": [
    {
     "name": "stdout",
     "output_type": "stream",
     "text": [
      "0 1 2 3 4 5 6 7 8 9 10 11 12 13 14 15 16 17 18 19 20 21 22 23 24 25 26 27 28 29 30 31 32 33 34 35 36 37 38 39 40 41 42 43 44 45 46 47 48 49 50 51 52 53 54 55 56 57 58 59 60 61 62 63 64 65 66 67 68 69 70 71 72 73 74 75 76 77 78 79 80 81 82 83 84 85 86 87 88 89 90 91 92 93 94 95 96 97 98 99\n"
     ]
    },
    {
     "data": {
      "text/plain": [
       "array([ 0.,  0.,  0.,  1.,  1.,  1.,  0.])"
      ]
     },
     "execution_count": 121,
     "metadata": {},
     "output_type": "execute_result"
    }
   ],
   "source": [
    "n_step_td_estimate(env=RandomWalk(), policy=right_walk_policy, num_iters=100, alpha=0.5, gamma=1, n=2)"
   ]
  },
  {
   "cell_type": "code",
   "execution_count": 137,
   "metadata": {
    "collapsed": true
   },
   "outputs": [],
   "source": [
    "def left_walk_policy(state):\n",
    "    LEFT, RIGHT = 0, 1\n",
    "    return LEFT"
   ]
  },
  {
   "cell_type": "code",
   "execution_count": 138,
   "metadata": {
    "collapsed": false
   },
   "outputs": [
    {
     "data": {
      "text/plain": [
       "array([ 0.,  0.,  0.,  0.,  0.,  0.,  0.])"
      ]
     },
     "execution_count": 138,
     "metadata": {},
     "output_type": "execute_result"
    }
   ],
   "source": [
    "n_step_td_estimate(env=RandomWalk(), policy=left_walk_policy, num_iters=100, alpha=0.5, gamma=1, n=2)"
   ]
  },
  {
   "cell_type": "markdown",
   "metadata": {},
   "source": [
    "Let us try a random walk policy with $n=2$ and $n=1$:"
   ]
  },
  {
   "cell_type": "code",
   "execution_count": 130,
   "metadata": {
    "collapsed": true
   },
   "outputs": [],
   "source": [
    "def random_policy(state):\n",
    "    LEFT, RIGHT = 0, 1\n",
    "    if np.random.randint(0,2) == 0:\n",
    "        return LEFT\n",
    "    else:\n",
    "        return RIGHT"
   ]
  },
  {
   "cell_type": "markdown",
   "metadata": {},
   "source": [
    "$n = 2$:"
   ]
  },
  {
   "cell_type": "code",
   "execution_count": 174,
   "metadata": {
    "collapsed": false
   },
   "outputs": [
    {
     "name": "stdout",
     "output_type": "stream",
     "text": [
      "[ 0.18261455  0.34008082  0.49672043  0.66335435  0.83086432]\n"
     ]
    }
   ],
   "source": [
    "np.random.seed(0)\n",
    "V = n_step_td_estimate(env=RandomWalk(), policy=random_policy, num_iters=10000, alpha=0.01, gamma=1, n=2)\n",
    "print V[ [1,2,3,4,5] ]"
   ]
  },
  {
   "cell_type": "markdown",
   "metadata": {},
   "source": [
    "From the textbook, the real values are (1/6, 2/6, 3/6, 4/6, and 5/6) for A, B, C, D, and E, respectively, so let's check that:"
   ]
  },
  {
   "cell_type": "code",
   "execution_count": 175,
   "metadata": {
    "collapsed": false
   },
   "outputs": [
    {
     "name": "stdout",
     "output_type": "stream",
     "text": [
      "[0.16666666666666666, 0.3333333333333333, 0.5, 0.6666666666666666, 0.8333333333333334]\n"
     ]
    }
   ],
   "source": [
    "print [1.0/6, 2.0/6, 3.0/6, 4.0/6, 5.0/6]"
   ]
  },
  {
   "cell_type": "markdown",
   "metadata": {},
   "source": [
    "$n = 1$:"
   ]
  },
  {
   "cell_type": "code",
   "execution_count": 176,
   "metadata": {
    "collapsed": false
   },
   "outputs": [
    {
     "name": "stdout",
     "output_type": "stream",
     "text": [
      "[ 0.17417513  0.33827588  0.49017577  0.66800682  0.83955003]\n"
     ]
    }
   ],
   "source": [
    "np.random.seed(0)\n",
    "V = n_step_td_estimate(env=RandomWalk(), policy=random_policy, num_iters=10000, alpha=0.01, gamma=1, n=1)\n",
    "print V[ [1,2,3,4,5] ]"
   ]
  },
  {
   "cell_type": "markdown",
   "metadata": {},
   "source": [
    "----"
   ]
  },
  {
   "cell_type": "markdown",
   "metadata": {},
   "source": [
    "From the textbook, \"a one-step method would change only the estimate for the last state, V(E), which would be incremented toward 1, the observed return\". This is because we go from C to D (immediate reward = 0), from D to E ( immediate reward = 0), and E to terminal (immediate reward = 1), so E only gets updated."
   ]
  },
  {
   "cell_type": "code",
   "execution_count": 201,
   "metadata": {
    "collapsed": false
   },
   "outputs": [
    {
     "name": "stdout",
     "output_type": "stream",
     "text": [
      "iter: 0\n",
      "updating state 3, G = 0, V of state 3 is 0.000000\n",
      "updating state 4, G = 0, V of state 4 is 0.000000\n",
      "updating state 5, G = 1, V of state 5 is 0.000000\n",
      "\n",
      "[ 0.    0.    0.    0.    0.    0.01  0.  ]\n"
     ]
    }
   ],
   "source": [
    "V = n_step_td_estimate(env=RandomWalk(), policy=right_walk_policy, num_iters=1, alpha=0.01, gamma=1, n=1, debug=True)\n",
    "print V"
   ]
  },
  {
   "cell_type": "markdown",
   "metadata": {},
   "source": [
    "...where state 3 = 'C', state 4 = 'D', and state 5 = 'E'"
   ]
  },
  {
   "cell_type": "markdown",
   "metadata": {},
   "source": [
    "From the textbook, \"a two step method, on the other hand, would increment the values of the two states preceding termination: V(D) and V(E)\". This is because the immediate reward from D to the terminal state is 1, and also because the immediate reward from E to the terminal state is 1"
   ]
  },
  {
   "cell_type": "code",
   "execution_count": 206,
   "metadata": {
    "collapsed": false
   },
   "outputs": [
    {
     "name": "stdout",
     "output_type": "stream",
     "text": [
      "iter: 0\n",
      "updating state 3, G = 0, V of state 3 is 0.000000\n",
      "updating state 4, G = 1, V of state 4 is 0.000000\n",
      "updating state 5, G = 1, V of state 5 is 0.000000\n",
      "\n",
      "[ 0.    0.    0.    0.    0.01  0.01  0.  ]\n"
     ]
    }
   ],
   "source": [
    "V = n_step_td_estimate(env=RandomWalk(), policy=right_walk_policy, num_iters=1, alpha=0.01, gamma=1, n=2, debug=True)\n",
    "print V"
   ]
  },
  {
   "cell_type": "markdown",
   "metadata": {},
   "source": [
    "-------"
   ]
  },
  {
   "cell_type": "markdown",
   "metadata": {},
   "source": [
    "We can see that there is a trade-off to be made for $n$: in the extreme case, we perform Monte-Carlo updates, and then we perform updates on the state values extremely late (i.e. after we have hit the terminal state). In the other extreme case ($n=1$), we perform updates after single steps, which doesn't seem all that ideal, since we are computing updates based on very little information (in this case, simply the immedate reward, $R_{t+1}$), and the estimated value for $S_{t+1}$."
   ]
  },
  {
   "cell_type": "code",
   "execution_count": 282,
   "metadata": {
    "collapsed": false
   },
   "outputs": [],
   "source": [
    "class ExtremeRandomWalk(discrete.DiscreteEnv):\n",
    "    metadata = {'render.modes':['human','ansi']}\n",
    "    def __init__(self):\n",
    "        num_states = 19\n",
    "        self.shape = (num_states,)\n",
    "        nS = np.prod(self.shape)\n",
    "        nA = 2\n",
    "        # calculate transition probabilities\n",
    "        self.LEFT = 0\n",
    "        self.RIGHT = 1\n",
    "        P = {}\n",
    "        for s in range(nS):\n",
    "            P[s] = {a : [] for a in range(nA) }\n",
    "            # observation, new_state, reward, is_done\n",
    "            P[s][self.LEFT] = [(1.0, max(0, s-1), 0, True if max(0, s-1) == 0 else False)]\n",
    "            P[s][self.RIGHT] = [(1.0, min(nS-1, s+1), 0, True if min(nS-1,s+1) == (nS-1) else False)]\n",
    "        # the transition from the left-most state to the left terminal is a reward of 1\n",
    "        P[1][self.LEFT] = [(1.0, 0, 1, True)]\n",
    "        \n",
    "        # we always start in state C (which is 3)\n",
    "        isd = np.zeros(nS)\n",
    "        isd[9] = 1.0\n",
    "        \n",
    "        super(ExtremeRandomWalk, self).__init__(nS, nA, P, isd)\n",
    "        \n",
    "    def _step(self, a):\n",
    "        transitions = self.P[self.s][a]\n",
    "        p, s, r, d = transitions[0]\n",
    "        self.s = s\n",
    "        self.lastaction=a\n",
    "        return (s, r, d, {\"prob\" : p})\n",
    "    \n",
    "    def _render(self, mode='human', close=False):\n",
    "        if close:\n",
    "            return\n",
    "        outfile = StringIO() if mode == 'ansi' else sys.stdout\n",
    "        st = [ str(x) for x in range(self.nS) ]\n",
    "        st[self.s] = '(' + st[self.s] + ')'\n",
    "        outfile.write(\" \".join(st))\n",
    "        outfile.write(\"\\n\")"
   ]
  },
  {
   "cell_type": "code",
   "execution_count": null,
   "metadata": {
    "collapsed": true
   },
   "outputs": [],
   "source": []
  },
  {
   "cell_type": "code",
   "execution_count": 312,
   "metadata": {
    "collapsed": false
   },
   "outputs": [
    {
     "name": "stdout",
     "output_type": "stream",
     "text": [
      "[ 0.          0.94444444  0.88888889  0.83333333  0.77777778  0.72222222\n",
      "  0.66666667  0.61111111  0.55555556  0.5         0.44444444  0.38888889\n",
      "  0.33333333  0.27777778  0.22222222  0.16666667  0.11111111  0.05555556\n",
      "  0.        ]\n"
     ]
    }
   ],
   "source": [
    "tmp=ExtremeRandomWalk()\n",
    "real_vals = []\n",
    "for i in range(1, tmp.nS-2+1):\n",
    "    real_vals.append( (i*1.0) / (tmp.nS-1) )\n",
    "real_vals = [0] + real_vals[::-1] + [0]\n",
    "real_vals = np.asarray(real_vals)\n",
    "print real_vals"
   ]
  },
  {
   "cell_type": "code",
   "execution_count": 336,
   "metadata": {
    "collapsed": false
   },
   "outputs": [
    {
     "name": "stdout",
     "output_type": "stream",
     "text": [
      "1 0.249317645224\n",
      "2 0.208274428675\n",
      "3 0.179403925484\n",
      "4 0.147520342963\n",
      "5 0.129283483399\n",
      "6 0.1112906734\n",
      "7 0.0988563961121\n",
      "8 0.0944361213997\n",
      "9 0.0900622712431\n",
      "10 0.0936641192097\n",
      "11 0.103183547782\n",
      "12 0.109970136606\n",
      "13 0.126749801925\n",
      "14 0.13945249649\n",
      "15 0.19002149287\n",
      "16 0.200376455816\n",
      "17 0.194688233\n",
      "18 0.248180260762\n"
     ]
    }
   ],
   "source": [
    "mses = []\n",
    "for n in range(1, env.nS):\n",
    "    V = np.zeros(tmp.nS)\n",
    "    num_repeats = 100\n",
    "    for repeat in range(num_repeats):\n",
    "        V += n_step_td_estimate(env=ExtremeRandomWalk(), policy=random_policy, num_episodes=10, alpha=0.01, gamma=1, n=n, debug=False)\n",
    "    V = np.sum(V, axis=0) / num_repeats\n",
    "    mse = np.mean((V - real_vals)**2)\n",
    "    print n, mse\n",
    "    mses.append(mse)"
   ]
  },
  {
   "cell_type": "code",
   "execution_count": 338,
   "metadata": {
    "collapsed": false
   },
   "outputs": [
    {
     "data": {
      "text/plain": [
       "<matplotlib.text.Text at 0x114db15d0>"
      ]
     },
     "execution_count": 338,
     "metadata": {},
     "output_type": "execute_result"
    },
    {
     "data": {
      "image/png": "[encoded data removed]",
      "text/plain": [
       "<matplotlib.figure.Figure at 0x114d84550>"
      ]
     },
     "metadata": {},
     "output_type": "display_data"
    }
   ],
   "source": [
    "plt.plot(mses)\n",
    "plt.xlabel(\"n\")\n",
    "plt.ylabel(\"mse\")"
   ]
  },
  {
   "cell_type": "code",
   "execution_count": 333,
   "metadata": {
    "collapsed": false
   },
   "outputs": [
    {
     "data": {
      "text/plain": [
       "0.12728053037252715"
      ]
     },
     "execution_count": 333,
     "metadata": {},
     "output_type": "execute_result"
    }
   ],
   "source": [
    "np.mean((V - real_vals)**2)"
   ]
  },
  {
   "cell_type": "code",
   "execution_count": null,
   "metadata": {
    "collapsed": true
   },
   "outputs": [],
   "source": []
  }
 ],
 "metadata": {
  "kernelspec": {
   "display_name": "Python 2",
   "language": "python",
   "name": "python2"
  },
  "language_info": {
   "codemirror_mode": {
    "name": "ipython",
    "version": 2
   },
   "file_extension": ".py",
   "mimetype": "text/x-python",
   "name": "python",
   "nbconvert_exporter": "python",
   "pygments_lexer": "ipython2",
   "version": "2.7.13"
  }
 },
 "nbformat": 4,
 "nbformat_minor": 2
}
