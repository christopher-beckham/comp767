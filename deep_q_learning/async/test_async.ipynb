{
 "cells": [
  {
   "cell_type": "code",
   "execution_count": 1,
   "metadata": {
    "collapsed": true
   },
   "outputs": [],
   "source": [
    "import theano\n",
    "from theano import tensor as T\n",
    "import lasagne\n",
    "from lasagne.layers import *\n",
    "from lasagne.objectives import *\n",
    "from lasagne.nonlinearities import *\n",
    "import cPickle as pickle\n",
    "import gzip\n",
    "import numpy as np"
   ]
  },
  {
   "cell_type": "code",
   "execution_count": 2,
   "metadata": {
    "collapsed": true
   },
   "outputs": [],
   "source": [
    "def get_net():\n",
    "    l_in = InputLayer((None, 784))\n",
    "    l_dense = DenseLayer(l_in, num_units=256)\n",
    "    l_dense2 = DenseLayer(l_dense, num_units=128)\n",
    "    l_softmax = DenseLayer(l_dense2, num_units=10, nonlinearity=softmax)\n",
    "    return l_softmax"
   ]
  },
  {
   "cell_type": "markdown",
   "metadata": {},
   "source": [
    "Load in MNIST data."
   ]
  },
  {
   "cell_type": "code",
   "execution_count": 3,
   "metadata": {
    "collapsed": false
   },
   "outputs": [],
   "source": [
    "with gzip.open(\"./mnist.pkl.gz\") as f:\n",
    "    train_data, valid_data, _ = pickle.load(f)"
   ]
  },
  {
   "cell_type": "code",
   "execution_count": 4,
   "metadata": {
    "collapsed": false
   },
   "outputs": [],
   "source": [
    "X_train, y_train = train_data\n",
    "X_valid, y_valid = valid_data"
   ]
  },
  {
   "cell_type": "markdown",
   "metadata": {},
   "source": [
    "Define the worker, which will be run in its own thread."
   ]
  },
  {
   "cell_type": "code",
   "execution_count": 5,
   "metadata": {
    "collapsed": true
   },
   "outputs": [],
   "source": [
    "def iterator(X,y,bs):\n",
    "    b = 0\n",
    "    while True:\n",
    "        if b*bs >= X.shape[0]:\n",
    "            break\n",
    "        yield X[(b*bs):(b+1)*bs], y[(b*bs):(b+1)*bs]\n",
    "        b += 1"
   ]
  },
  {
   "cell_type": "code",
   "execution_count": 11,
   "metadata": {
    "collapsed": true
   },
   "outputs": [],
   "source": [
    "def worker(X_train, y_train, net_fn, num_epochs, queue):\n",
    "    \"\"\"\n",
    "    X_train: the chunk of training data this worker is meant to operate on\n",
    "    \"\"\"\n",
    "    l_out = net_fn()\n",
    "    X = T.fmatrix('X')\n",
    "    y = T.ivector('y')\n",
    "    net_out = get_output(l_out, X)\n",
    "    loss = categorical_crossentropy(net_out, y).mean()\n",
    "    params = get_all_params(l_out, trainable=True)\n",
    "    grads = T.grad(loss, params)\n",
    "    grads_fn = theano.function([X,y], grads)\n",
    "    print \"num epochs\", num_epochs\n",
    "    for epoch in range(num_epochs):\n",
    "        print \"epoch:\", epoch\n",
    "        for X_batch, y_batch in iterator(X_train, y_train, bs=32):\n",
    "            # this breaks the epoch for loop\n",
    "            this_grads = grads_fn(X_batch, y_batch)\n",
    "            queue.put(this_grads)"
   ]
  },
  {
   "cell_type": "code",
   "execution_count": 161,
   "metadata": {
    "collapsed": false
   },
   "outputs": [],
   "source": [
    "#worker(X_train[0:100].astype(\"float32\"), y_train[0:100].astype(\"int32\"), get_net, 100, None)"
   ]
  },
  {
   "cell_type": "code",
   "execution_count": 7,
   "metadata": {
    "collapsed": false
   },
   "outputs": [],
   "source": [
    "import multiprocessing\n",
    "queue = multiprocessing.Queue(maxsize=100)"
   ]
  },
  {
   "cell_type": "code",
   "execution_count": 19,
   "metadata": {
    "collapsed": false
   },
   "outputs": [
    {
     "name": "stdout",
     "output_type": "stream",
     "text": [
      "num epochs 100\n",
      "epoch: 0\n"
     ]
    }
   ],
   "source": [
    "p = multiprocessing.Process(target=worker, \n",
    "        args=(X_train[0:100].astype(\"float32\"), y_train[0:100].astype(\"int32\"), get_net, 100, queue,))\n",
    "p.start()"
   ]
  },
  {
   "cell_type": "code",
   "execution_count": 20,
   "metadata": {
    "collapsed": false
   },
   "outputs": [
    {
     "ename": "KeyboardInterrupt",
     "evalue": "",
     "output_type": "error",
     "traceback": [
      "\u001b[0;31m---------------------------------------------------------------------------\u001b[0m",
      "\u001b[0;31mKeyboardInterrupt\u001b[0m                         Traceback (most recent call last)",
      "\u001b[0;32m<ipython-input-20-ef042a4fe24a>\u001b[0m in \u001b[0;36m<module>\u001b[0;34m()\u001b[0m\n\u001b[0;32m----> 1\u001b[0;31m \u001b[0mp\u001b[0m\u001b[0;34m.\u001b[0m\u001b[0mjoin\u001b[0m\u001b[0;34m(\u001b[0m\u001b[0;34m)\u001b[0m\u001b[0;34m\u001b[0m\u001b[0m\n\u001b[0m",
      "\u001b[0;32m/Users/cjb60/anaconda2/lib/python2.7/multiprocessing/process.pyc\u001b[0m in \u001b[0;36mjoin\u001b[0;34m(self, timeout)\u001b[0m\n\u001b[1;32m    143\u001b[0m         \u001b[0;32massert\u001b[0m \u001b[0mself\u001b[0m\u001b[0;34m.\u001b[0m\u001b[0m_parent_pid\u001b[0m \u001b[0;34m==\u001b[0m \u001b[0mos\u001b[0m\u001b[0;34m.\u001b[0m\u001b[0mgetpid\u001b[0m\u001b[0;34m(\u001b[0m\u001b[0;34m)\u001b[0m\u001b[0;34m,\u001b[0m \u001b[0;34m'can only join a child process'\u001b[0m\u001b[0;34m\u001b[0m\u001b[0m\n\u001b[1;32m    144\u001b[0m         \u001b[0;32massert\u001b[0m \u001b[0mself\u001b[0m\u001b[0;34m.\u001b[0m\u001b[0m_popen\u001b[0m \u001b[0;32mis\u001b[0m \u001b[0;32mnot\u001b[0m \u001b[0mNone\u001b[0m\u001b[0;34m,\u001b[0m \u001b[0;34m'can only join a started process'\u001b[0m\u001b[0;34m\u001b[0m\u001b[0m\n\u001b[0;32m--> 145\u001b[0;31m         \u001b[0mres\u001b[0m \u001b[0;34m=\u001b[0m \u001b[0mself\u001b[0m\u001b[0;34m.\u001b[0m\u001b[0m_popen\u001b[0m\u001b[0;34m.\u001b[0m\u001b[0mwait\u001b[0m\u001b[0;34m(\u001b[0m\u001b[0mtimeout\u001b[0m\u001b[0;34m)\u001b[0m\u001b[0;34m\u001b[0m\u001b[0m\n\u001b[0m\u001b[1;32m    146\u001b[0m         \u001b[0;32mif\u001b[0m \u001b[0mres\u001b[0m \u001b[0;32mis\u001b[0m \u001b[0;32mnot\u001b[0m \u001b[0mNone\u001b[0m\u001b[0;34m:\u001b[0m\u001b[0;34m\u001b[0m\u001b[0m\n\u001b[1;32m    147\u001b[0m             \u001b[0m_current_process\u001b[0m\u001b[0;34m.\u001b[0m\u001b[0m_children\u001b[0m\u001b[0;34m.\u001b[0m\u001b[0mdiscard\u001b[0m\u001b[0;34m(\u001b[0m\u001b[0mself\u001b[0m\u001b[0;34m)\u001b[0m\u001b[0;34m\u001b[0m\u001b[0m\n",
      "\u001b[0;32m/Users/cjb60/anaconda2/lib/python2.7/multiprocessing/forking.pyc\u001b[0m in \u001b[0;36mwait\u001b[0;34m(self, timeout)\u001b[0m\n\u001b[1;32m    152\u001b[0m         \u001b[0;32mdef\u001b[0m \u001b[0mwait\u001b[0m\u001b[0;34m(\u001b[0m\u001b[0mself\u001b[0m\u001b[0;34m,\u001b[0m \u001b[0mtimeout\u001b[0m\u001b[0;34m=\u001b[0m\u001b[0mNone\u001b[0m\u001b[0;34m)\u001b[0m\u001b[0;34m:\u001b[0m\u001b[0;34m\u001b[0m\u001b[0m\n\u001b[1;32m    153\u001b[0m             \u001b[0;32mif\u001b[0m \u001b[0mtimeout\u001b[0m \u001b[0;32mis\u001b[0m \u001b[0mNone\u001b[0m\u001b[0;34m:\u001b[0m\u001b[0;34m\u001b[0m\u001b[0m\n\u001b[0;32m--> 154\u001b[0;31m                 \u001b[0;32mreturn\u001b[0m \u001b[0mself\u001b[0m\u001b[0;34m.\u001b[0m\u001b[0mpoll\u001b[0m\u001b[0;34m(\u001b[0m\u001b[0;36m0\u001b[0m\u001b[0;34m)\u001b[0m\u001b[0;34m\u001b[0m\u001b[0m\n\u001b[0m\u001b[1;32m    155\u001b[0m             \u001b[0mdeadline\u001b[0m \u001b[0;34m=\u001b[0m \u001b[0mtime\u001b[0m\u001b[0;34m.\u001b[0m\u001b[0mtime\u001b[0m\u001b[0;34m(\u001b[0m\u001b[0;34m)\u001b[0m \u001b[0;34m+\u001b[0m \u001b[0mtimeout\u001b[0m\u001b[0;34m\u001b[0m\u001b[0m\n\u001b[1;32m    156\u001b[0m             \u001b[0mdelay\u001b[0m \u001b[0;34m=\u001b[0m \u001b[0;36m0.0005\u001b[0m\u001b[0;34m\u001b[0m\u001b[0m\n",
      "\u001b[0;32m/Users/cjb60/anaconda2/lib/python2.7/multiprocessing/forking.pyc\u001b[0m in \u001b[0;36mpoll\u001b[0;34m(self, flag)\u001b[0m\n\u001b[1;32m    133\u001b[0m                 \u001b[0;32mwhile\u001b[0m \u001b[0mTrue\u001b[0m\u001b[0;34m:\u001b[0m\u001b[0;34m\u001b[0m\u001b[0m\n\u001b[1;32m    134\u001b[0m                     \u001b[0;32mtry\u001b[0m\u001b[0;34m:\u001b[0m\u001b[0;34m\u001b[0m\u001b[0m\n\u001b[0;32m--> 135\u001b[0;31m                         \u001b[0mpid\u001b[0m\u001b[0;34m,\u001b[0m \u001b[0msts\u001b[0m \u001b[0;34m=\u001b[0m \u001b[0mos\u001b[0m\u001b[0;34m.\u001b[0m\u001b[0mwaitpid\u001b[0m\u001b[0;34m(\u001b[0m\u001b[0mself\u001b[0m\u001b[0;34m.\u001b[0m\u001b[0mpid\u001b[0m\u001b[0;34m,\u001b[0m \u001b[0mflag\u001b[0m\u001b[0;34m)\u001b[0m\u001b[0;34m\u001b[0m\u001b[0m\n\u001b[0m\u001b[1;32m    136\u001b[0m                     \u001b[0;32mexcept\u001b[0m \u001b[0mos\u001b[0m\u001b[0;34m.\u001b[0m\u001b[0merror\u001b[0m \u001b[0;32mas\u001b[0m \u001b[0me\u001b[0m\u001b[0;34m:\u001b[0m\u001b[0;34m\u001b[0m\u001b[0m\n\u001b[1;32m    137\u001b[0m                         \u001b[0;32mif\u001b[0m \u001b[0me\u001b[0m\u001b[0;34m.\u001b[0m\u001b[0merrno\u001b[0m \u001b[0;34m==\u001b[0m \u001b[0merrno\u001b[0m\u001b[0;34m.\u001b[0m\u001b[0mEINTR\u001b[0m\u001b[0;34m:\u001b[0m\u001b[0;34m\u001b[0m\u001b[0m\n",
      "\u001b[0;31mKeyboardInterrupt\u001b[0m: "
     ]
    }
   ],
   "source": [
    "p.join()"
   ]
  },
  {
   "cell_type": "code",
   "execution_count": 18,
   "metadata": {
    "collapsed": false
   },
   "outputs": [
    {
     "data": {
      "text/plain": [
       "[array([[ 0.,  0.,  0., ...,  0.,  0.,  0.],\n",
       "        [ 0.,  0.,  0., ...,  0.,  0.,  0.],\n",
       "        [ 0.,  0.,  0., ...,  0.,  0.,  0.],\n",
       "        ..., \n",
       "        [ 0.,  0.,  0., ...,  0.,  0.,  0.],\n",
       "        [ 0.,  0.,  0., ...,  0.,  0.,  0.],\n",
       "        [ 0.,  0.,  0., ...,  0.,  0.,  0.]]),\n",
       " array([ -3.02678797e-04,   5.58130128e-03,  -1.54949869e-04,\n",
       "         -3.35858863e-03,   1.15703361e-02,  -1.51021615e-02,\n",
       "         -5.44662625e-03,   7.08543004e-03,  -2.43729588e-03,\n",
       "          1.58452232e-03,  -3.08737592e-03,  -6.63151591e-03,\n",
       "         -4.71173387e-03,  -9.86536378e-03,  -1.07615016e-02,\n",
       "         -4.76057029e-03,   1.01019259e-03,   3.81981194e-03,\n",
       "          5.93102281e-03,   1.90384393e-03,   2.35445730e-02,\n",
       "         -4.46881701e-03,  -1.55612358e-02,   3.67632513e-03,\n",
       "          8.75471367e-03,   6.77829442e-03,   2.36708644e-02,\n",
       "         -2.87656427e-03,  -1.63856087e-03,   1.20956689e-03,\n",
       "          3.92618672e-03,  -3.81946242e-03,  -8.68809402e-03,\n",
       "         -1.58036615e-03,  -4.63712297e-03,  -5.05667213e-03,\n",
       "         -5.87286246e-03,   1.32629039e-02,  -1.20632745e-03,\n",
       "          1.22716546e-02,  -1.89796466e-03,   2.28257626e-03,\n",
       "         -5.52895815e-04,   6.84070510e-03,   5.58611970e-03,\n",
       "          1.95471504e-02,   1.98101872e-03,   2.14841874e-02,\n",
       "         -7.15444301e-03,   3.64088210e-03,   6.67859436e-03,\n",
       "          8.26633104e-03,  -1.56754296e-03,   2.37548775e-02,\n",
       "          5.99893063e-03,  -1.22278886e-02,   3.02192074e-03,\n",
       "         -3.06137045e-03,  -1.61296763e-03,  -8.74598463e-04,\n",
       "         -3.89472636e-03,  -2.34195061e-03,   1.56214535e-02,\n",
       "          5.51101774e-03,   1.89938547e-03,  -5.06441596e-04,\n",
       "          5.94374742e-03,  -4.35621824e-03,   1.06933489e-02,\n",
       "          4.56381660e-03,   3.04725479e-03,   2.77184695e-03,\n",
       "         -5.99360599e-03,   1.39095754e-02,   6.92589742e-03,\n",
       "         -3.77709973e-03,  -5.01196976e-03,   1.90870644e-02,\n",
       "          1.55769324e-03,   3.97501389e-03,  -5.94880671e-04,\n",
       "         -8.67313910e-03,   7.06885332e-04,   2.51476637e-03,\n",
       "         -5.77379816e-04,   1.38684299e-02,  -1.53339655e-02,\n",
       "          4.14882431e-04,   3.63311227e-03,   2.59010837e-02,\n",
       "          4.52925894e-03,  -2.26066643e-02,  -6.78115866e-03,\n",
       "          1.50355264e-03,   1.19941938e-03,   2.51328290e-03,\n",
       "         -3.14695820e-03,  -2.28714567e-03,  -6.68015513e-03,\n",
       "         -1.72942564e-04,  -1.48550277e-03,  -1.09448266e-03,\n",
       "         -6.74336557e-03,   1.09714572e-04,  -3.72005709e-03,\n",
       "         -1.66943348e-02,  -7.26942584e-04,  -1.36671569e-03,\n",
       "         -4.49794748e-03,   1.12038636e-02,  -1.46928752e-04,\n",
       "         -4.32124366e-04,   1.69968749e-03,   1.10784405e-02,\n",
       "          1.22275970e-02,   2.25964810e-04,  -6.89662100e-03,\n",
       "         -1.94873196e-02,  -3.88292171e-03,   2.22452286e-03,\n",
       "         -8.21309326e-03,  -9.19561050e-03,  -3.41392416e-03,\n",
       "          1.78053136e-02,  -4.44400115e-03,  -1.05778955e-02,\n",
       "          8.13186417e-03,  -3.38994208e-03,   1.08708109e-02,\n",
       "          1.95418357e-03,  -2.29857063e-03,  -1.43166782e-03,\n",
       "         -3.89804057e-03,  -4.31903341e-03,  -4.06902039e-03,\n",
       "         -2.68396864e-03,  -3.43167550e-02,   5.03308331e-03,\n",
       "         -4.30381743e-03,  -8.34946404e-03,   3.08409680e-03,\n",
       "          3.32123968e-03,   2.50391006e-03,  -1.83361729e-02,\n",
       "          1.48270070e-02,  -5.03843858e-03,  -7.92638896e-04,\n",
       "          3.34061230e-03,  -2.12070954e-02,   3.26819793e-04,\n",
       "         -1.36167721e-02,  -1.41017387e-02,   8.38635594e-03,\n",
       "          1.35074256e-02,   5.40824555e-03,   4.38431323e-03,\n",
       "         -8.68571165e-03,   1.53062069e-02,  -1.04028079e-02,\n",
       "          1.22768945e-02,   2.04787984e-03,  -2.42938090e-03,\n",
       "          1.13088771e-03,   1.27345688e-02,  -1.07424741e-02,\n",
       "          7.15045733e-03,  -9.71728020e-03,   5.60757029e-03,\n",
       "          2.00970026e-03,   4.78252291e-04,   9.47052543e-03,\n",
       "         -2.82845576e-03,   2.06709454e-03,  -5.38952711e-03,\n",
       "         -8.25276868e-04,   6.32002898e-03,   4.11967150e-03,\n",
       "          4.58785389e-04,  -1.97081340e-03,  -2.86777388e-03,\n",
       "         -3.85110764e-03,   1.15058501e-03,  -6.30345606e-04,\n",
       "          1.24744969e-02,  -4.63646389e-03,   1.88906611e-02,\n",
       "         -7.68838066e-03,   6.92653467e-04,  -1.55065347e-03,\n",
       "          1.21059030e-04,   3.51016050e-03,   6.93697786e-03,\n",
       "         -1.40371607e-03,  -5.85154600e-03,   8.25523717e-03,\n",
       "         -1.02810036e-02,   1.00091475e-03,  -7.96423258e-05,\n",
       "         -5.14780469e-03,  -1.03939547e-02,  -7.56202372e-03,\n",
       "         -7.46052938e-03,   2.13248180e-02,  -1.29833331e-02,\n",
       "          3.07373904e-03,   6.42622006e-03,   1.33386542e-02,\n",
       "         -4.00581289e-03,   3.46922975e-03,  -3.79943709e-03,\n",
       "         -1.78050717e-03,  -6.29270148e-03,   2.79754025e-03,\n",
       "         -6.05603353e-03,   7.79952162e-03,  -5.85160761e-03,\n",
       "         -1.38220401e-03,   2.25658964e-03,  -1.02914573e-02,\n",
       "         -7.75407707e-03,   3.37553311e-03,   8.72165183e-03,\n",
       "          1.93747250e-03,  -2.45368037e-04,  -3.16978837e-03,\n",
       "          1.38315080e-02,  -6.89967898e-03,  -7.99286059e-03,\n",
       "          2.50659684e-03,   1.71165139e-03,   4.44588686e-03,\n",
       "         -2.57450351e-02,  -1.45837074e-04,  -8.81966214e-03,\n",
       "          4.90224558e-03,  -2.02222991e-05,  -8.16864621e-03,\n",
       "          4.55027901e-03,   5.58235659e-03,   2.79961100e-03,\n",
       "         -6.26427782e-03,   1.15026726e-03,  -5.03769486e-03,\n",
       "          5.88228031e-05,  -1.10727550e-02,   1.53700988e-02,\n",
       "         -1.12217157e-02,  -5.71545508e-03,  -1.42394413e-03,\n",
       "          2.38840560e-02,   3.51855790e-05,   1.53133432e-02,\n",
       "          4.02481972e-03,   2.43092756e-03,  -1.60115887e-03,\n",
       "          5.54730080e-03]),\n",
       " array([[  1.11546649e-03,   0.00000000e+00,   0.00000000e+00, ...,\n",
       "           1.69522334e-04,  -1.41033402e-03,   0.00000000e+00],\n",
       "        [  1.08260552e-03,   3.22406897e-04,   0.00000000e+00, ...,\n",
       "          -6.25210553e-04,   4.13610676e-06,   3.89754098e-04],\n",
       "        [ -4.74468349e-03,   2.48597929e-03,   0.00000000e+00, ...,\n",
       "           2.82839515e-03,   5.10070920e-03,  -9.09597489e-05],\n",
       "        ..., \n",
       "        [  6.45657891e-03,   1.86330439e-03,   0.00000000e+00, ...,\n",
       "          -2.09960183e-03,  -4.69847878e-03,  -2.26105052e-03],\n",
       "        [  4.02510965e-03,   9.99454049e-04,  -1.09651912e-03, ...,\n",
       "           6.48471900e-04,   2.03918597e-03,  -3.41141653e-03],\n",
       "        [  1.08154953e-02,   1.92724665e-03,  -4.53889531e-03, ...,\n",
       "           2.28674260e-04,   3.58609498e-03,  -7.10696418e-04]]),\n",
       " array([ 0.03829241,  0.00426854, -0.00921179,  0.0183186 ,  0.00093604,\n",
       "         0.        , -0.00506525,  0.02512152,  0.01315134,  0.0110454 ,\n",
       "        -0.00583998,  0.0002016 ,  0.01309314, -0.00311952, -0.0020882 ,\n",
       "         0.01703705,  0.0302433 , -0.00147546, -0.00471957, -0.00784022,\n",
       "        -0.00516944, -0.00770363, -0.02324638, -0.00706398, -0.00703433,\n",
       "        -0.0002019 , -0.00406058, -0.00467789, -0.00373921,  0.00447294,\n",
       "        -0.00395182,  0.0316956 , -0.01649515, -0.02984761,  0.00513582,\n",
       "        -0.02432198,  0.03574885, -0.01614374,  0.0143668 ,  0.00376417,\n",
       "        -0.01067655, -0.01702224,  0.02653106,  0.00820298, -0.02433179,\n",
       "         0.02092049, -0.00461873,  0.02457506, -0.00408193,  0.01208797,\n",
       "        -0.01279697,  0.00928109,  0.00459334,  0.01089975,  0.        ,\n",
       "         0.00079832,  0.02630777, -0.00920089,  0.00164721, -0.01230093,\n",
       "         0.00350881, -0.0124551 ,  0.00134249,  0.00419728,  0.00270989,\n",
       "         0.00110278,  0.00320843,  0.        ,  0.02037852, -0.00497208,\n",
       "        -0.01651176,  0.00561606,  0.01445047, -0.00974019,  0.0070446 ,\n",
       "        -0.00558823,  0.01397785, -0.00805026,  0.02222368,  0.00561899,\n",
       "         0.01051254,  0.00681397, -0.00699944, -0.01277715,  0.        ,\n",
       "        -0.00490563,  0.01196135,  0.0073269 ,  0.00575656, -0.02321081,\n",
       "        -0.01949385,  0.00031543, -0.00118734, -0.02116324, -0.01400709,\n",
       "         0.00465447, -0.00332533, -0.0053285 , -0.00216829,  0.00831893,\n",
       "         0.01418438, -0.00497503, -0.00758012, -0.00154712, -0.0157012 ,\n",
       "        -0.00492492,  0.03473511,  0.00657193,  0.0032606 ,  0.        ,\n",
       "         0.03942389, -0.00023955,  0.0135737 ,  0.02527701, -0.00157159,\n",
       "        -0.02440368,  0.02323261, -0.01032783, -0.01263907, -0.01461564,\n",
       "         0.02224206, -0.00785687,  0.00649423, -0.03124856,  0.01367053,\n",
       "        -0.00490261,  0.01281134, -0.01422766]),\n",
       " array([[-0.05642862,  0.00769956,  0.04903495, ...,  0.01330266,\n",
       "          0.0301696 , -0.01944805],\n",
       "        [ 0.00256861,  0.00173936,  0.00228633, ...,  0.00230575,\n",
       "          0.00285312,  0.00206882],\n",
       "        [ 0.00169931,  0.00112852,  0.00111495, ...,  0.00128412,\n",
       "          0.00145788, -0.00027433],\n",
       "        ..., \n",
       "        [ 0.00225256, -0.00479319,  0.00662607, ...,  0.00350808,\n",
       "         -0.00651309, -0.00717717],\n",
       "        [-0.04282993,  0.00364758,  0.07111773, ...,  0.01639848,\n",
       "          0.00434832, -0.02152546],\n",
       "        [ 0.00224734, -0.00390793,  0.00620247, ..., -0.00375283,\n",
       "          0.00440968,  0.00264465]]),\n",
       " array([-0.03582821,  0.0110229 ,  0.10089067, -0.03171526, -0.01289791,\n",
       "         0.04955845, -0.03442242,  0.01424283,  0.02781053, -0.08866157])]"
      ]
     },
     "execution_count": 18,
     "metadata": {},
     "output_type": "execute_result"
    }
   ],
   "source": [
    "gtmp = queue.get()\n",
    "gtmp"
   ]
  },
  {
   "cell_type": "code",
   "execution_count": 104,
   "metadata": {
    "collapsed": true
   },
   "outputs": [],
   "source": [
    "?p.terminate()"
   ]
  },
  {
   "cell_type": "markdown",
   "metadata": {},
   "source": [
    "----"
   ]
  },
  {
   "cell_type": "code",
   "execution_count": 93,
   "metadata": {
    "collapsed": false
   },
   "outputs": [],
   "source": [
    "master_current_params = None"
   ]
  },
  {
   "cell_type": "code",
   "execution_count": 99,
   "metadata": {
    "collapsed": true
   },
   "outputs": [],
   "source": [
    "def master_worker(X_valid, y_valid, net_fn):\n",
    "    \"\"\"\n",
    "    X_valid:\n",
    "    y_valid:\n",
    "    \"\"\"\n",
    "    global master_current_params\n",
    "    l_out = net_fn()\n",
    "    params = get_all_params(l_out, trainable=True)\n",
    "    X = T.fmatrix('X')\n",
    "    y = T.ivector('y')\n",
    "    net_out = get_output(l_out, X)\n",
    "    out_fn = theano.function([X], net_out)\n",
    "    for iter in range(100):\n",
    "        # ok, let's try and get a grad object from the queue\n",
    "        # and then update our params before evaluating on\n",
    "        # the validation set\n",
    "        grads = queue.get()\n",
    "        print \"got grads, doing an update...\"\n",
    "        for i in range(len(params)):\n",
    "            # do sgd on this param\n",
    "            params[i].set_value( params[i].get_value() - 0.01*grads[i])\n",
    "        \n",
    "        preds = []\n",
    "        for X_batch, y_batch in iterator(X_valid, y_valid, bs=32):\n",
    "            this_preds = np.argmax(out_fn(X_batch),axis=1)\n",
    "            preds += this_preds.tolist()\n",
    "        preds = np.asarray(preds)\n",
    "        valid_acc = (preds == y_valid).mean()\n",
    "        print valid_acc\n",
    "        master_current_params = get_all_param_values(l_out)\n",
    "    "
   ]
  },
  {
   "cell_type": "code",
   "execution_count": 100,
   "metadata": {
    "collapsed": false
   },
   "outputs": [
    {
     "ename": "KeyboardInterrupt",
     "evalue": "",
     "output_type": "error",
     "traceback": [
      "\u001b[0;31m---------------------------------------------------------------------------\u001b[0m",
      "\u001b[0;31mKeyboardInterrupt\u001b[0m                         Traceback (most recent call last)",
      "\u001b[0;32m<ipython-input-100-a0b3910e79db>\u001b[0m in \u001b[0;36m<module>\u001b[0;34m()\u001b[0m\n\u001b[0;32m----> 1\u001b[0;31m \u001b[0mmaster_worker\u001b[0m\u001b[0;34m(\u001b[0m\u001b[0mX_valid\u001b[0m\u001b[0;34m[\u001b[0m\u001b[0;36m0\u001b[0m\u001b[0;34m:\u001b[0m\u001b[0;36m100\u001b[0m\u001b[0;34m]\u001b[0m\u001b[0;34m.\u001b[0m\u001b[0mastype\u001b[0m\u001b[0;34m(\u001b[0m\u001b[0;34m\"float32\"\u001b[0m\u001b[0;34m)\u001b[0m\u001b[0;34m,\u001b[0m \u001b[0my_valid\u001b[0m\u001b[0;34m[\u001b[0m\u001b[0;36m0\u001b[0m\u001b[0;34m:\u001b[0m\u001b[0;36m100\u001b[0m\u001b[0;34m]\u001b[0m\u001b[0;34m.\u001b[0m\u001b[0mastype\u001b[0m\u001b[0;34m(\u001b[0m\u001b[0;34m\"float32\"\u001b[0m\u001b[0;34m)\u001b[0m\u001b[0;34m,\u001b[0m \u001b[0mget_net\u001b[0m\u001b[0;34m)\u001b[0m\u001b[0;34m\u001b[0m\u001b[0m\n\u001b[0m",
      "\u001b[0;32m<ipython-input-99-a11be6621759>\u001b[0m in \u001b[0;36mmaster_worker\u001b[0;34m(X_valid, y_valid, net_fn)\u001b[0m\n\u001b[1;32m     15\u001b[0m         \u001b[0;31m# and then update our params before evaluating on\u001b[0m\u001b[0;34m\u001b[0m\u001b[0;34m\u001b[0m\u001b[0m\n\u001b[1;32m     16\u001b[0m         \u001b[0;31m# the validation set\u001b[0m\u001b[0;34m\u001b[0m\u001b[0;34m\u001b[0m\u001b[0m\n\u001b[0;32m---> 17\u001b[0;31m         \u001b[0mgrads\u001b[0m \u001b[0;34m=\u001b[0m \u001b[0mqueue\u001b[0m\u001b[0;34m.\u001b[0m\u001b[0mget\u001b[0m\u001b[0;34m(\u001b[0m\u001b[0;34m)\u001b[0m\u001b[0;34m\u001b[0m\u001b[0m\n\u001b[0m\u001b[1;32m     18\u001b[0m         \u001b[0;32mprint\u001b[0m \u001b[0;34m\"got grads, doing an update...\"\u001b[0m\u001b[0;34m\u001b[0m\u001b[0m\n\u001b[1;32m     19\u001b[0m         \u001b[0;32mfor\u001b[0m \u001b[0mi\u001b[0m \u001b[0;32min\u001b[0m \u001b[0mrange\u001b[0m\u001b[0;34m(\u001b[0m\u001b[0mlen\u001b[0m\u001b[0;34m(\u001b[0m\u001b[0mparams\u001b[0m\u001b[0;34m)\u001b[0m\u001b[0;34m)\u001b[0m\u001b[0;34m:\u001b[0m\u001b[0;34m\u001b[0m\u001b[0m\n",
      "\u001b[0;32m/Users/cjb60/anaconda2/lib/python2.7/multiprocessing/queues.pyc\u001b[0m in \u001b[0;36mget\u001b[0;34m(self, block, timeout)\u001b[0m\n\u001b[1;32m    115\u001b[0m             \u001b[0mself\u001b[0m\u001b[0;34m.\u001b[0m\u001b[0m_rlock\u001b[0m\u001b[0;34m.\u001b[0m\u001b[0macquire\u001b[0m\u001b[0;34m(\u001b[0m\u001b[0;34m)\u001b[0m\u001b[0;34m\u001b[0m\u001b[0m\n\u001b[1;32m    116\u001b[0m             \u001b[0;32mtry\u001b[0m\u001b[0;34m:\u001b[0m\u001b[0;34m\u001b[0m\u001b[0m\n\u001b[0;32m--> 117\u001b[0;31m                 \u001b[0mres\u001b[0m \u001b[0;34m=\u001b[0m \u001b[0mself\u001b[0m\u001b[0;34m.\u001b[0m\u001b[0m_recv\u001b[0m\u001b[0;34m(\u001b[0m\u001b[0;34m)\u001b[0m\u001b[0;34m\u001b[0m\u001b[0m\n\u001b[0m\u001b[1;32m    118\u001b[0m                 \u001b[0mself\u001b[0m\u001b[0;34m.\u001b[0m\u001b[0m_sem\u001b[0m\u001b[0;34m.\u001b[0m\u001b[0mrelease\u001b[0m\u001b[0;34m(\u001b[0m\u001b[0;34m)\u001b[0m\u001b[0;34m\u001b[0m\u001b[0m\n\u001b[1;32m    119\u001b[0m                 \u001b[0;32mreturn\u001b[0m \u001b[0mres\u001b[0m\u001b[0;34m\u001b[0m\u001b[0m\n",
      "\u001b[0;31mKeyboardInterrupt\u001b[0m: "
     ]
    }
   ],
   "source": [
    "master_worker(X_valid[0:100].astype(\"float32\"), y_valid[0:100].astype(\"float32\"), get_net)"
   ]
  },
  {
   "cell_type": "code",
   "execution_count": 84,
   "metadata": {
    "collapsed": false
   },
   "outputs": [
    {
     "data": {
      "text/plain": [
       "6"
      ]
     },
     "execution_count": 84,
     "metadata": {},
     "output_type": "execute_result"
    }
   ],
   "source": [
    "len(master_current_params)"
   ]
  },
  {
   "cell_type": "code",
   "execution_count": 88,
   "metadata": {
    "collapsed": false
   },
   "outputs": [],
   "source": [
    "arr = [1,2,3,4,5]"
   ]
  },
  {
   "cell_type": "code",
   "execution_count": 89,
   "metadata": {
    "collapsed": false
   },
   "outputs": [
    {
     "data": {
      "text/plain": [
       "5"
      ]
     },
     "execution_count": 89,
     "metadata": {},
     "output_type": "execute_result"
    }
   ],
   "source": [
    "arr.pop()"
   ]
  },
  {
   "cell_type": "code",
   "execution_count": 90,
   "metadata": {
    "collapsed": false
   },
   "outputs": [
    {
     "ename": "TypeError",
     "evalue": "'int' object is not iterable",
     "output_type": "error",
     "traceback": [
      "\u001b[0;31m---------------------------------------------------------------------------\u001b[0m",
      "\u001b[0;31mTypeError\u001b[0m                                 Traceback (most recent call last)",
      "\u001b[0;32m<ipython-input-90-2e5910ad3105>\u001b[0m in \u001b[0;36m<module>\u001b[0;34m()\u001b[0m\n\u001b[0;32m----> 1\u001b[0;31m \u001b[0;32mfor\u001b[0m \u001b[0mt\u001b[0m \u001b[0;32min\u001b[0m \u001b[0marr\u001b[0m\u001b[0;34m.\u001b[0m\u001b[0mpop\u001b[0m\u001b[0;34m(\u001b[0m\u001b[0;34m)\u001b[0m\u001b[0;34m:\u001b[0m\u001b[0;34m\u001b[0m\u001b[0m\n\u001b[0m\u001b[1;32m      2\u001b[0m     \u001b[0;32mprint\u001b[0m \u001b[0mt\u001b[0m\u001b[0;34m\u001b[0m\u001b[0m\n",
      "\u001b[0;31mTypeError\u001b[0m: 'int' object is not iterable"
     ]
    }
   ],
   "source": [
    "for t in arr.pop():\n",
    "    print t"
   ]
  },
  {
   "cell_type": "code",
   "execution_count": 167,
   "metadata": {
    "collapsed": false
   },
   "outputs": [
    {
     "name": "stderr",
     "output_type": "stream",
     "text": [
      "du: /storeSSD/cbeckham/deep_rl: No such file or directory\n"
     ]
    }
   ],
   "source": [
    "%%bash\n",
    "du -h /storeSSD/cbeckham/deep_rl"
   ]
  },
  {
   "cell_type": "code",
   "execution_count": null,
   "metadata": {
    "collapsed": true
   },
   "outputs": [],
   "source": []
  }
 ],
 "metadata": {
  "kernelspec": {
   "display_name": "Python 2",
   "language": "python",
   "name": "python2"
  },
  "language_info": {
   "codemirror_mode": {
    "name": "ipython",
    "version": 2
   },
   "file_extension": ".py",
   "mimetype": "text/x-python",
   "name": "python",
   "nbconvert_exporter": "python",
   "pygments_lexer": "ipython2",
   "version": "2.7.13"
  }
 },
 "nbformat": 4,
 "nbformat_minor": 2
}
