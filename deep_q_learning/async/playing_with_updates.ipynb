{
 "cells": [
  {
   "cell_type": "code",
   "execution_count": 3,
   "metadata": {
    "collapsed": false
   },
   "outputs": [],
   "source": [
    "import theano\n",
    "from theano import tensor as T\n",
    "import lasagne\n",
    "from lasagne.layers import *\n",
    "from lasagne.updates import *\n",
    "from lasagne.nonlinearities import *"
   ]
  },
  {
   "cell_type": "code",
   "execution_count": 23,
   "metadata": {
    "collapsed": true
   },
   "outputs": [],
   "source": [
    "import numpy as np"
   ]
  },
  {
   "cell_type": "code",
   "execution_count": 32,
   "metadata": {
    "collapsed": false
   },
   "outputs": [],
   "source": [
    "l_in = InputLayer((100, 20))\n",
    "l1 = DenseLayer(l_in, num_units=3, nonlinearity=softmax)\n",
    "x = T.matrix('x')  # shp: num_batch x num_features\n",
    "y = T.ivector('y') # shp: num_batch\n",
    "l_out = get_output(l1, x)\n",
    "params = lasagne.layers.get_all_params(l1)\n",
    "loss = T.mean(T.nnet.categorical_crossentropy(l_out, y))\n",
    "updates = rmsprop(loss, params, learning_rate=1e-4)\n",
    "train_fn = theano.function([x, y], updates=updates)\n",
    "grads_fn = theano.function([x,y], updates.values())\n"
   ]
  },
  {
   "cell_type": "code",
   "execution_count": 17,
   "metadata": {
    "collapsed": true
   },
   "outputs": [],
   "source": [
    "# updates can be a tuple (w, w-alpha*grad), or an ordereddict"
   ]
  },
  {
   "cell_type": "code",
   "execution_count": 33,
   "metadata": {
    "collapsed": false
   },
   "outputs": [
    {
     "data": {
      "text/plain": [
       "[Elemwise{add,no_inplace}.0,\n",
       " Elemwise{sub,no_inplace}.0,\n",
       " Elemwise{add,no_inplace}.0,\n",
       " Elemwise{sub,no_inplace}.0]"
      ]
     },
     "execution_count": 33,
     "metadata": {},
     "output_type": "execute_result"
    }
   ],
   "source": [
    "updates.values()"
   ]
  },
  {
   "cell_type": "code",
   "execution_count": 34,
   "metadata": {
    "collapsed": false
   },
   "outputs": [],
   "source": [
    "fake_x = np.random.normal(0,1,size=(10,20)).astype(\"float32\")\n",
    "fake_y = np.asarray([0]*10, dtype=\"int32\")"
   ]
  },
  {
   "cell_type": "code",
   "execution_count": 35,
   "metadata": {
    "collapsed": false
   },
   "outputs": [],
   "source": [
    "grads = grads_fn(fake_x, fake_y)"
   ]
  },
  {
   "cell_type": "code",
   "execution_count": 37,
   "metadata": {
    "collapsed": false
   },
   "outputs": [
    {
     "data": {
      "text/plain": [
       "((20, 3), (20, 3), (3,), (3,))"
      ]
     },
     "execution_count": 37,
     "metadata": {},
     "output_type": "execute_result"
    }
   ],
   "source": [
    "grads[0].shape, grads[1].shape, grads[2].shape, grads[3].shape"
   ]
  },
  {
   "cell_type": "code",
   "execution_count": 40,
   "metadata": {
    "collapsed": false
   },
   "outputs": [
    {
     "data": {
      "text/plain": [
       "array([[ 0.22736289, -0.16647606, -0.29880509],\n",
       "       [-0.27565622,  0.07603743, -0.13769178],\n",
       "       [-0.27818629,  0.10951374,  0.16103692],\n",
       "       [-0.23545404, -0.3988274 ,  0.16239518],\n",
       "       [-0.42337042, -0.00978778,  0.42198709],\n",
       "       [ 0.502895  ,  0.42461771, -0.34939516],\n",
       "       [ 0.06314015,  0.10642032, -0.33618572],\n",
       "       [ 0.3534207 ,  0.29586905, -0.17229567],\n",
       "       [ 0.47372255, -0.13547896,  0.42059076],\n",
       "       [ 0.17971268, -0.2919558 ,  0.13462573],\n",
       "       [-0.49283323, -0.4221099 , -0.00903306],\n",
       "       [-0.47454137,  0.44996104, -0.43529281],\n",
       "       [ 0.33038357,  0.47329462, -0.00916154],\n",
       "       [ 0.19422372,  0.31821582,  0.21113326],\n",
       "       [ 0.17104247, -0.40812656, -0.24214843],\n",
       "       [ 0.26153702, -0.45058864,  0.16597196],\n",
       "       [ 0.10264648, -0.40984616, -0.32424816],\n",
       "       [-0.04624036,  0.31421003, -0.25916958],\n",
       "       [-0.37007105, -0.11475346,  0.34616247],\n",
       "       [ 0.26294595,  0.49298507, -0.26694617]], dtype=float32)"
      ]
     },
     "execution_count": 40,
     "metadata": {},
     "output_type": "execute_result"
    }
   ],
   "source": [
    "updates.keys()[1].get_value()"
   ]
  },
  {
   "cell_type": "code",
   "execution_count": null,
   "metadata": {
    "collapsed": true
   },
   "outputs": [],
   "source": []
  }
 ],
 "metadata": {
  "kernelspec": {
   "display_name": "Python 2",
   "language": "python",
   "name": "python2"
  },
  "language_info": {
   "codemirror_mode": {
    "name": "ipython",
    "version": 2
   },
   "file_extension": ".py",
   "mimetype": "text/x-python",
   "name": "python",
   "nbconvert_exporter": "python",
   "pygments_lexer": "ipython2",
   "version": "2.7.13"
  }
 },
 "nbformat": 4,
 "nbformat_minor": 2
}
