{
 "cells": [
  {
   "cell_type": "code",
   "execution_count": 31,
   "metadata": {
    "collapsed": false
   },
   "outputs": [],
   "source": [
    "import theano\n",
    "from theano import tensor as T\n",
    "import lasagne\n",
    "from lasagne.layers import *\n",
    "from lasagne.objectives import *\n",
    "from lasagne.nonlinearities import *\n",
    "import gym\n",
    "import numpy as np\n",
    "from skimage.color import rgb2gray"
   ]
  },
  {
   "cell_type": "code",
   "execution_count": 36,
   "metadata": {
    "collapsed": true
   },
   "outputs": [],
   "source": [
    "def q_net(env):\n",
    "    height, width, nchannels = env.observation_space.shape\n",
    "    nchannels = 4 # we convert to black and white and use 4 prev frames\n",
    "    l_in = InputLayer((None, nchannels, height, width))\n",
    "    l_conv = Conv2DLayer(l_in, num_filters=32, filter_size=3, stride=2)\n",
    "    l_conv2 = Conv2DLayer(l_conv, num_filters=64, filter_size=3, stride=2)\n",
    "    l_conv3 = Conv2DLayer(l_conv2, num_filters=96, filter_size=3, stride=2)\n",
    "    l_conv4 = Conv2DLayer(l_conv3, num_filters=128, filter_size=3, stride=2)\n",
    "    l_dense = DenseLayer(l_conv4, num_units=env.action_space.n)\n",
    "    return l_dense"
   ]
  },
  {
   "cell_type": "code",
   "execution_count": 37,
   "metadata": {
    "collapsed": true
   },
   "outputs": [],
   "source": [
    "X = T.tensor4('X')\n",
    "y = T.fmatrix('y') # this is a row column\n",
    "action_mask = T.fmatrix('action_mask')"
   ]
  },
  {
   "cell_type": "code",
   "execution_count": 38,
   "metadata": {
    "collapsed": false
   },
   "outputs": [
    {
     "name": "stderr",
     "output_type": "stream",
     "text": [
      "[2017-03-16 12:18:56,939] Making new env: Pong-v0\n",
      "[2017-03-16 12:18:56,973] Making new env: Pong-v0\n"
     ]
    },
    {
     "name": "stdout",
     "output_type": "stream",
     "text": [
      "268742\n",
      "<lasagne.layers.input.InputLayer object at 0x10db9d510> (None, 4, 210, 160)\n",
      "<lasagne.layers.conv.Conv2DLayer object at 0x10db9d810> (None, 32, 104, 79)\n",
      "<lasagne.layers.conv.Conv2DLayer object at 0x10db9d890> (None, 64, 51, 39)\n",
      "<lasagne.layers.conv.Conv2DLayer object at 0x10db9da90> (None, 96, 25, 19)\n",
      "<lasagne.layers.conv.Conv2DLayer object at 0x10db9dfd0> (None, 128, 12, 9)\n",
      "<lasagne.layers.dense.DenseLayer object at 0x10d8e81d0> (None, 6)\n"
     ]
    }
   ],
   "source": [
    "env = gym.make('Pong-v0')\n",
    "l_out = q_net(gym.make('Pong-v0'))\n",
    "print count_params(l_out)\n",
    "for layer in get_all_layers(l_out):\n",
    "    print layer, layer.output_shape"
   ]
  },
  {
   "cell_type": "code",
   "execution_count": 102,
   "metadata": {
    "collapsed": false
   },
   "outputs": [],
   "source": [
    "net_out = get_output(l_out, X)\n",
    "loss = ( y - (action_mask*net_out).sum(axis=1, keepdims=True) )**2\n",
    "loss = loss.mean()"
   ]
  },
  {
   "cell_type": "code",
   "execution_count": 103,
   "metadata": {
    "collapsed": true
   },
   "outputs": [],
   "source": [
    "out_fn = theano.function([X], net_out)"
   ]
  },
  {
   "cell_type": "code",
   "execution_count": 104,
   "metadata": {
    "collapsed": false
   },
   "outputs": [
    {
     "data": {
      "text/plain": [
       "[W, b, W, b, W, b, W, b, W, b]"
      ]
     },
     "execution_count": 104,
     "metadata": {},
     "output_type": "execute_result"
    }
   ],
   "source": [
    "params = get_all_params(l_out, trainable=True)\n",
    "params"
   ]
  },
  {
   "cell_type": "code",
   "execution_count": 105,
   "metadata": {
    "collapsed": true
   },
   "outputs": [],
   "source": [
    "updates = lasagne.updates.rmsprop(loss, params, learning_rate=0.1)"
   ]
  },
  {
   "cell_type": "code",
   "execution_count": 106,
   "metadata": {
    "collapsed": true
   },
   "outputs": [],
   "source": [
    "train_fn = theano.function([X,y,action_mask], loss, updates=updates)"
   ]
  },
  {
   "cell_type": "markdown",
   "metadata": {},
   "source": [
    "--------"
   ]
  },
  {
   "cell_type": "code",
   "execution_count": 110,
   "metadata": {
    "collapsed": false
   },
   "outputs": [
    {
     "name": "stderr",
     "output_type": "stream",
     "text": [
      "[2017-03-16 13:00:21,523] Making new env: Pong-v0\n"
     ]
    },
    {
     "name": "stdout",
     "output_type": "stream",
     "text": [
      "qvalues_minibatch (4, 6)\n",
      "y_minibatch (4, 1)\n",
      "mask_minibatch (4, 6)\n",
      "phi_t1_minibatch (4, 4, 210, 160)\n",
      "9.92179289577e-20\n"
     ]
    }
   ],
   "source": [
    "env = gym.make('Pong-v0')\n",
    "# set up replay buffer and image buffers\n",
    "buf_maxlen = 4\n",
    "buf = []\n",
    "buf_idx = []\n",
    "experience = []\n",
    "gamma = 1\n",
    "mb_size = 4\n",
    "for t in range(10000):\n",
    "    # if the buffer is not at max length, do random actions\n",
    "    # to fill it up\n",
    "    if len(buf) != buf_maxlen:\n",
    "        a_t = env.action_space.sample()\n",
    "        x, _, _, _ = env.step(a_t)\n",
    "        buf.append(rgb2gray(x))\n",
    "        buf_idx.append(t)\n",
    "    else:\n",
    "        # phi_t is going to be the 4 most recent frames\n",
    "        phi_t = np.asarray([\n",
    "            buf[(t-1-3)%len(buf)], \n",
    "            buf[(t-1-2)%len(buf)], \n",
    "            buf[(t-1-1)%len(buf)], \n",
    "            buf[(t-1-0)%len(buf)]\n",
    "        ]).astype(\"float32\")\n",
    "        debug_t = [buf_idx[(t-1-3)%len(buf_idx)], \n",
    "                   buf_idx[(t-1-2)%len(buf_idx)], \n",
    "                   buf_idx[(t-1-1)%len(buf_idx)], \n",
    "                   buf_idx[(t-1-0)%len(buf_idx)]]\n",
    "        # with probability eps, select a random action\n",
    "        a_t = env.action_space.sample()\n",
    "        # execute action a_t in emulator and observe reward r_t and image x_t+1\n",
    "        x_t1, r_t, is_done, info = env.step(a_t)\n",
    "        # insert x_t+1 into the buffer, then grab the next\n",
    "        # 4 most recent frames\n",
    "        if not is_done:\n",
    "            buf[ (t) % len(buf) ] = rgb2gray(x_t1)\n",
    "            buf_idx[ (t) % len(buf) ] = t\n",
    "            phi_t1 = np.asarray([\n",
    "                buf[(t-3)%len(buf)], \n",
    "                buf[(t-2)%len(buf)], \n",
    "                buf[(t-1)%len(buf)], \n",
    "                buf[(t-0)%len(buf)]\n",
    "            ]).astype(\"float32\")\n",
    "            debug_t1 = [buf_idx[(t-3)%len(buf_idx)], \n",
    "                       buf_idx[(t-2)%len(buf_idx)], \n",
    "                       buf_idx[(t-1)%len(buf_idx)], \n",
    "                       buf_idx[(t-0)%len(buf_idx)]]\n",
    "        else:\n",
    "            phi_t1 = phi_t\n",
    "        #print debug_t, debug_t1\n",
    "        # add this tuple to the experience buffer\n",
    "        experience.append( {\"phi_t\":phi_t, \"a_t\":a_t, \"r_t\":r_t, \"phi_t1\":phi_t1, \"is_done\":is_done} )\n",
    "        \n",
    "        if len(experience) > mb_size:\n",
    "            # sample from random experience from the buffer\n",
    "            idxs = [i for i in range(0, len(experience))]\n",
    "            np.random.shuffle(idxs)\n",
    "            rand_transitions = [ experience[idx] for idx in idxs[0:mb_size] ]\n",
    "            phi_t1_minibatch = np.asarray(\n",
    "                [ rand_transitions[i][\"phi_t1\"] for i in range(len(rand_transitions)) ]).astype(\"float32\")\n",
    "            qvalues_minibatch = out_fn(phi_t1_minibatch)\n",
    "            max_qvalues_minibatch = np.max(qvalues_minibatch,axis=1)\n",
    "            y_minibatch = []\n",
    "            for i in range(qvalues_minibatch.shape[0]):\n",
    "                if rand_transitions[i][\"is_done\"]:\n",
    "                    y_minibatch.append([rand_transitions[i][\"r_t\"]])\n",
    "                else:\n",
    "                    y_minibatch.append([rand_transitions[i][\"r_t\"]+gamma*max_qvalues_minibatch[i]])\n",
    "            y_minibatch = np.asarray(y_minibatch).astype(\"float32\")\n",
    "\n",
    "            #print qvalues_minibatch\n",
    "            #print y_minibatch\n",
    "            \n",
    "            mask_minibatch = np.zeros(qvalues_minibatch.shape).astype(\"float32\")\n",
    "            for i in range(qvalues_minibatch.shape[0]):\n",
    "                mask_minibatch[ i, np.argmax(qvalues_minibatch[i]) ] = 1.\n",
    "                \n",
    "            #print mask_minibatch\n",
    "            \n",
    "            print \"qvalues_minibatch\", qvalues_minibatch.shape\n",
    "            print \"y_minibatch\", y_minibatch.shape\n",
    "            print \"mask_minibatch\", mask_minibatch.shape\n",
    "            print \"phi_t1_minibatch\", phi_t1_minibatch.shape\n",
    "            \n",
    "            this_loss = train_fn(phi_t1_minibatch, y_minibatch, mask_minibatch)\n",
    "            print this_loss\n",
    "            \n",
    "            #print test_fn(phi_t1_minibatch, mask_minibatch)\n",
    "            \n",
    "            break"
   ]
  },
  {
   "cell_type": "code",
   "execution_count": 54,
   "metadata": {
    "collapsed": false
   },
   "outputs": [],
   "source": [
    "idxs = [i for i in range(0, len(experience))]"
   ]
  },
  {
   "cell_type": "code",
   "execution_count": 28,
   "metadata": {
    "collapsed": false
   },
   "outputs": [
    {
     "data": {
      "text/plain": [
       "2"
      ]
     },
     "execution_count": 28,
     "metadata": {},
     "output_type": "execute_result"
    }
   ],
   "source": [
    "np.max(np.asarray([[1,2],[3,4]]),axis=1)[0]"
   ]
  },
  {
   "cell_type": "code",
   "execution_count": 70,
   "metadata": {
    "collapsed": false
   },
   "outputs": [
    {
     "ename": "TypeError",
     "evalue": "list indices must be integers, not list",
     "output_type": "error",
     "traceback": [
      "\u001b[0;31m---------------------------------------------------------------------------\u001b[0m",
      "\u001b[0;31mTypeError\u001b[0m                                 Traceback (most recent call last)",
      "\u001b[0;32m<ipython-input-70-adfbeb62faa7>\u001b[0m in \u001b[0;36m<module>\u001b[0;34m()\u001b[0m\n\u001b[0;32m----> 1\u001b[0;31m \u001b[0;34m[\u001b[0m\u001b[0;36m1\u001b[0m\u001b[0;34m,\u001b[0m\u001b[0;36m2\u001b[0m\u001b[0;34m,\u001b[0m\u001b[0;36m3\u001b[0m\u001b[0;34m,\u001b[0m\u001b[0;36m4\u001b[0m\u001b[0;34m,\u001b[0m\u001b[0;36m5\u001b[0m\u001b[0;34m]\u001b[0m\u001b[0;34m[\u001b[0m \u001b[0;34m[\u001b[0m\u001b[0;36m3\u001b[0m\u001b[0;34m,\u001b[0m\u001b[0;36m2\u001b[0m\u001b[0;34m]\u001b[0m \u001b[0;34m]\u001b[0m\u001b[0;34m\u001b[0m\u001b[0m\n\u001b[0m",
      "\u001b[0;31mTypeError\u001b[0m: list indices must be integers, not list"
     ]
    }
   ],
   "source": [
    "[1,2,3,4,5][ [3,2] ]"
   ]
  },
  {
   "cell_type": "code",
   "execution_count": 99,
   "metadata": {
    "collapsed": true
   },
   "outputs": [],
   "source": [
    "?T.sum"
   ]
  },
  {
   "cell_type": "code",
   "execution_count": null,
   "metadata": {
    "collapsed": true
   },
   "outputs": [],
   "source": []
  }
 ],
 "metadata": {
  "kernelspec": {
   "display_name": "Python 2",
   "language": "python",
   "name": "python2"
  },
  "language_info": {
   "codemirror_mode": {
    "name": "ipython",
    "version": 2
   },
   "file_extension": ".py",
   "mimetype": "text/x-python",
   "name": "python",
   "nbconvert_exporter": "python",
   "pygments_lexer": "ipython2",
   "version": "2.7.13"
  }
 },
 "nbformat": 4,
 "nbformat_minor": 2
}
