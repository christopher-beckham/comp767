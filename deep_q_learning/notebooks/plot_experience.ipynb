{
 "cells": [
  {
   "cell_type": "code",
   "execution_count": 3,
   "metadata": {
    "collapsed": true,
    "deletable": true,
    "editable": true
   },
   "outputs": [],
   "source": [
    "import numpy as np\n",
    "import cPickle as pickle\n",
    "import matplotlib.pyplot as plt\n",
    "%matplotlib inline"
   ]
  },
  {
   "cell_type": "code",
   "execution_count": 3,
   "metadata": {
    "collapsed": false,
    "deletable": true,
    "editable": true
   },
   "outputs": [
    {
     "name": "stdout",
     "output_type": "stream",
     "text": [
      "25M\t/storeSSD/cbeckham/experience_revamp_600k_small.pkl\n"
     ]
    }
   ],
   "source": [
    "%%bash\n",
    "du -h /storeSSD/cbeckham/experience_revamp_600k_small.pkl"
   ]
  },
  {
   "cell_type": "code",
   "execution_count": 4,
   "metadata": {
    "collapsed": true,
    "deletable": true,
    "editable": true
   },
   "outputs": [],
   "source": [
    "dat = pickle.load(open(\"/storeSSD/cbeckham/experience_revamp_600k_small.pkl\"))"
   ]
  },
  {
   "cell_type": "code",
   "execution_count": 5,
   "metadata": {
    "collapsed": false,
    "deletable": true,
    "editable": true
   },
   "outputs": [],
   "source": [
    "def plot_exp(tp):\n",
    "    plt.figure(figsize=(10,6))\n",
    "    plt.subplot(1,4,1)\n",
    "    plt.imshow(tp[\"phi_t\"][0],cmap=\"gray\")\n",
    "    plt.subplot(1,4,2)\n",
    "    plt.imshow(tp[\"phi_t\"][1],cmap=\"gray\")\n",
    "    plt.subplot(1,4,3)\n",
    "    plt.imshow(tp[\"phi_t\"][2],cmap=\"gray\")\n",
    "    plt.subplot(1,4,4)\n",
    "    plt.imshow(tp[\"phi_t\"][3],cmap=\"gray\")\n",
    "    # ---\n",
    "    print tp[\"a_t\"]\n",
    "    print tp[\"r_t\"]\n",
    "    # ---\n",
    "    plt.figure(figsize=(10,6))\n",
    "    plt.subplot(1,4,1)\n",
    "    plt.imshow(tp[\"phi_t1\"][0],cmap=\"gray\")\n",
    "    plt.subplot(1,4,2)\n",
    "    plt.imshow(tp[\"phi_t1\"][1],cmap=\"gray\")\n",
    "    plt.subplot(1,4,3)\n",
    "    plt.imshow(tp[\"phi_t1\"][2],cmap=\"gray\")\n",
    "    plt.subplot(1,4,4)\n",
    "    plt.imshow(tp[\"phi_t1\"][3],cmap=\"gray\")\n",
    "    print tp[\"debug_t\"], tp[\"debug_t1\"]"
   ]
  },
  {
   "cell_type": "code",
   "execution_count": 36,
   "metadata": {
    "collapsed": false,
    "deletable": true,
    "editable": true
   },
   "outputs": [
    {
     "name": "stdout",
     "output_type": "stream",
     "text": [
      "5\n",
      "0.0\n",
      "[681, 682, 683, 684] [682, 683, 684, 685]\n"
     ]
    },
    {
     "data": {
      "image/png": "[encoded data removed]",
      "text/plain": [
       "<matplotlib.figure.Figure at 0x7f720975d810>"
      ]
     },
     "metadata": {},
     "output_type": "display_data"
    },
    {
     "data": {
      "image/png": "[encoded data removed]",
      "text/plain": [
       "<matplotlib.figure.Figure at 0x7f72088db390>"
      ]
     },
     "metadata": {},
     "output_type": "display_data"
    }
   ],
   "source": [
    "plot_exp(dat[70])"
   ]
  },
  {
   "cell_type": "code",
   "execution_count": 51,
   "metadata": {
    "collapsed": false,
    "deletable": true,
    "editable": true
   },
   "outputs": [],
   "source": [
    "def _sample_from_experience(experience, batch_size, gamma):\n",
    "    # sample from random experience from the buffer\n",
    "    idxs = [i for i in range(0, len(experience))] # index into ring buffer\n",
    "    np.random.shuffle(idxs)\n",
    "    rand_transitions = \\\n",
    "        [ experience[idx] for idx in idxs[0:batch_size] ]\n",
    "    print idxs[0:batch_size]\n",
    "    phi_t1_minibatch = \\\n",
    "        img_as_float(\n",
    "            np.asarray(\n",
    "                [ rand_transitions[i][\"phi_t1\"] for i in range(len(rand_transitions)) ]\n",
    "            )\n",
    "        ).astype(\"float32\")\n",
    "    r_minibatch = np.asarray(\n",
    "        [ [rand_transitions[i][\"r_t\"]] for i in range(len(rand_transitions)) ], dtype=\"float32\")\n",
    "    is_done_minibatch = np.asarray(\n",
    "        [ [1.0*rand_transitions[i][\"is_done\"]] for i in range(len(rand_transitions)) ], dtype=\"float32\")\n",
    "    # ok, construct Q(phi_t) and its corresponding mask\n",
    "    phi_t_minibatch = \\\n",
    "        img_as_float(\n",
    "            np.asarray(\n",
    "                [ rand_transitions[i][\"phi_t\"] for i in range(len(rand_transitions)) ]\n",
    "            )\n",
    "        ).astype(\"float32\")\n",
    "    mask_t_minibatch = np.zeros((phi_t_minibatch.shape[0], 6), dtype=\"float32\")\n",
    "    for i in range(mask_t_minibatch.shape[0]):\n",
    "        mask_t_minibatch[ i, rand_transitions[i][\"a_t\"] ] = 1.\n",
    "\n",
    "    #import pdb\n",
    "    #pdb.set_trace()\n",
    "\n",
    "    #print r_minibatch\n",
    "    #print phi_t1_minibatch\n",
    "    #print phi_t_minibatch\n",
    "    #print mask_t_minibatch\n",
    "    #print [ rand_transitions[i][\"a_t\"] for i in range(len(rand_transitions)) ]\n",
    "    #print \"----\"\n",
    "    #self.train_fn = theano.function([r, gamma, is_done, phi_t1, phi_t, phi_t_mask], loss, updates=updates, on_unused_input='warn')\n",
    "    return r_minibatch, np.float32(gamma), is_done_minibatch, phi_t1_minibatch, phi_t_minibatch, mask_t_minibatch\n"
   ]
  },
  {
   "cell_type": "code",
   "execution_count": 42,
   "metadata": {
    "collapsed": true,
    "deletable": true,
    "editable": true
   },
   "outputs": [],
   "source": [
    "from skimage import img_as_float"
   ]
  },
  {
   "cell_type": "code",
   "execution_count": 99,
   "metadata": {
    "collapsed": false,
    "deletable": true,
    "editable": true
   },
   "outputs": [
    {
     "name": "stdout",
     "output_type": "stream",
     "text": [
      "[980, 813, 38, 371, 398, 496, 170, 146, 189, 64]\n"
     ]
    }
   ],
   "source": [
    "r_minibatch, gamma_, is_done_minibatch, phi_t1_minibatch, phi_t_minibatch, mask_t_minibatch = \\\n",
    "    _sample_from_experience(dat, 10, 0.95)"
   ]
  },
  {
   "cell_type": "code",
   "execution_count": 100,
   "metadata": {
    "collapsed": false,
    "deletable": true,
    "editable": true
   },
   "outputs": [
    {
     "data": {
      "text/plain": [
       "array([[ 0.],\n",
       "       [ 0.],\n",
       "       [ 0.],\n",
       "       [ 0.],\n",
       "       [ 0.],\n",
       "       [ 0.],\n",
       "       [-1.],\n",
       "       [ 0.],\n",
       "       [ 0.],\n",
       "       [ 0.]], dtype=float32)"
      ]
     },
     "execution_count": 100,
     "metadata": {},
     "output_type": "execute_result"
    }
   ],
   "source": [
    "r_minibatch"
   ]
  },
  {
   "cell_type": "code",
   "execution_count": 79,
   "metadata": {
    "collapsed": false,
    "deletable": true,
    "editable": true
   },
   "outputs": [
    {
     "data": {
      "text/plain": [
       "array([[ 0.],\n",
       "       [ 0.],\n",
       "       [ 0.],\n",
       "       [ 0.],\n",
       "       [ 0.],\n",
       "       [ 0.],\n",
       "       [ 0.],\n",
       "       [ 0.],\n",
       "       [ 0.],\n",
       "       [ 0.]], dtype=float32)"
      ]
     },
     "execution_count": 79,
     "metadata": {},
     "output_type": "execute_result"
    }
   ],
   "source": [
    "is_done_minibatch"
   ]
  },
  {
   "cell_type": "code",
   "execution_count": 80,
   "metadata": {
    "collapsed": false,
    "deletable": true,
    "editable": true
   },
   "outputs": [
    {
     "data": {
      "text/plain": [
       "array([[ 0.,  0.,  0.,  1.,  0.,  0.],\n",
       "       [ 0.,  0.,  1.,  0.,  0.,  0.],\n",
       "       [ 0.,  0.,  0.,  1.,  0.,  0.],\n",
       "       [ 1.,  0.,  0.,  0.,  0.,  0.],\n",
       "       [ 0.,  0.,  0.,  1.,  0.,  0.],\n",
       "       [ 0.,  0.,  0.,  0.,  1.,  0.],\n",
       "       [ 0.,  0.,  0.,  0.,  1.,  0.],\n",
       "       [ 0.,  0.,  0.,  0.,  1.,  0.],\n",
       "       [ 0.,  1.,  0.,  0.,  0.,  0.],\n",
       "       [ 1.,  0.,  0.,  0.,  0.,  0.]], dtype=float32)"
      ]
     },
     "execution_count": 80,
     "metadata": {},
     "output_type": "execute_result"
    }
   ],
   "source": [
    "mask_t_minibatch"
   ]
  },
  {
   "cell_type": "markdown",
   "metadata": {
    "collapsed": true,
    "deletable": true,
    "editable": true
   },
   "source": [
    "-----"
   ]
  },
  {
   "cell_type": "code",
   "execution_count": 4,
   "metadata": {
    "collapsed": false,
    "deletable": true,
    "editable": true
   },
   "outputs": [
    {
     "name": "stderr",
     "output_type": "stream",
     "text": [
      "WARNING (theano.sandbox.cuda): The cuda backend is deprecated and will be removed in the next release (v0.10).  Please switch to the gpuarray backend. You can get more information about how to switch at this URL:\n",
      " https://github.com/Theano/Theano/wiki/Converting-to-the-new-gpu-back-end%28gpuarray%29\n",
      "\n",
      "Using gpu device 1: Tesla K40c (CNMeM is disabled, cuDNN 5004)\n"
     ]
    }
   ],
   "source": [
    "import lasagne\n",
    "import theano\n",
    "import gym\n",
    "from lasagne.layers import *\n",
    "from lasagne.objectives import *\n",
    "from lasagne.nonlinearities import *\n",
    "from lasagne.updates import *\n",
    "from theano import tensor as T"
   ]
  },
  {
   "cell_type": "code",
   "execution_count": 82,
   "metadata": {
    "collapsed": false,
    "deletable": true,
    "editable": true
   },
   "outputs": [],
   "source": [
    "def dqn_paper_net(env, args={}):\n",
    "    def batch_norm_or_not(layer, bn):\n",
    "        if bn:\n",
    "            return batch_norm(layer)\n",
    "        else:\n",
    "            return layer\n",
    "    nonlinearity = rectify if \"nonlinearity\" not in args else args[\"nonlinearity\"]\n",
    "    bn = True if \"batch_norm\" in args else False\n",
    "    #height, width, nchannels = env.observation_space.shape\n",
    "    height, width = 80, 80\n",
    "    nchannels = 4 # we convert to black and white and use 4 prev frames\n",
    "    layer = InputLayer((None, nchannels, height, width))\n",
    "    layer = batch_norm_or_not(Conv2DLayer(layer, filter_size=8, num_filters=16, stride=4, nonlinearity=nonlinearity), bn)\n",
    "    layer = batch_norm_or_not(Conv2DLayer(layer, filter_size=4, num_filters=32, stride=2, nonlinearity=nonlinearity), bn)\n",
    "    layer = batch_norm_or_not(DenseLayer(layer, num_units=256, nonlinearity=nonlinearity), bn)\n",
    "    layer = DenseLayer(layer, num_units=env.action_space.n, nonlinearity=linear)\n",
    "    return layer\n"
   ]
  },
  {
   "cell_type": "code",
   "execution_count": 8,
   "metadata": {
    "collapsed": false,
    "deletable": true,
    "editable": true
   },
   "outputs": [
    {
     "name": "stderr",
     "output_type": "stream",
     "text": [
      "[2017-04-02 15:59:38,181] Making new env: Pong-v0\n"
     ]
    },
    {
     "ename": "NameError",
     "evalue": "name 'dqn_paper_net' is not defined",
     "output_type": "error",
     "traceback": [
      "\u001b[0;31m---------------------------------------------------------------------------\u001b[0m",
      "\u001b[0;31mNameError\u001b[0m                                 Traceback (most recent call last)",
      "\u001b[0;32m<ipython-input-8-a50b44f74dfa>\u001b[0m in \u001b[0;36m<module>\u001b[0;34m()\u001b[0m\n\u001b[1;32m      1\u001b[0m \u001b[0menv\u001b[0m \u001b[0;34m=\u001b[0m \u001b[0mgym\u001b[0m\u001b[0;34m.\u001b[0m\u001b[0mmake\u001b[0m\u001b[0;34m(\u001b[0m\u001b[0;34m'Pong-v0'\u001b[0m\u001b[0;34m)\u001b[0m\u001b[0;34m\u001b[0m\u001b[0m\n\u001b[0;32m----> 2\u001b[0;31m \u001b[0ml_out\u001b[0m \u001b[0;34m=\u001b[0m \u001b[0mdqn_paper_net\u001b[0m\u001b[0;34m(\u001b[0m\u001b[0menv\u001b[0m\u001b[0;34m)\u001b[0m\u001b[0;34m\u001b[0m\u001b[0m\n\u001b[0m",
      "\u001b[0;31mNameError\u001b[0m: name 'dqn_paper_net' is not defined"
     ]
    }
   ],
   "source": [
    "env = gym.make('Pong-v0')\n",
    "l_out = dqn_paper_net(env)"
   ]
  },
  {
   "cell_type": "code",
   "execution_count": 104,
   "metadata": {
    "collapsed": false,
    "deletable": true,
    "editable": true
   },
   "outputs": [],
   "source": [
    "# theano variables for updating Q\n",
    "r = T.fmatrix('r')\n",
    "is_done = T.fmatrix('is_done')\n",
    "gamma = T.fscalar('gamma')\n",
    "phi_t = T.tensor4('phi_t')\n",
    "phi_t_mask = T.fmatrix('phi_t_mask')\n",
    "phi_t1 = T.tensor4('phi_t1')\n",
    "# loss\n",
    "output_phi_t = get_output(l_out, phi_t)\n",
    "output_phi_t1 = get_output(l_out, phi_t1)\n",
    "td_target = r + (1.0-is_done)*(gamma*T.max(output_phi_t1,axis=1,keepdims=True))\n",
    "td_error = (phi_t_mask*output_phi_t).sum(axis=1, keepdims=True)\n"
   ]
  },
  {
   "cell_type": "code",
   "execution_count": 101,
   "metadata": {
    "collapsed": false,
    "deletable": true,
    "editable": true
   },
   "outputs": [
    {
     "data": {
      "text/plain": [
       "array([[ 0.1749147 ],\n",
       "       [ 0.17619136],\n",
       "       [ 0.18252327],\n",
       "       [ 0.17567326],\n",
       "       [ 0.18510683],\n",
       "       [ 0.16705243],\n",
       "       [-0.82733715],\n",
       "       [ 0.18147129],\n",
       "       [ 0.17120881],\n",
       "       [ 0.1651081 ]], dtype=float32)"
      ]
     },
     "execution_count": 101,
     "metadata": {},
     "output_type": "execute_result"
    }
   ],
   "source": [
    "td_target.eval({\n",
    "  r: r_minibatch, is_done:is_done_minibatch, gamma:gamma_, phi_t1: phi_t1_minibatch\n",
    "})"
   ]
  },
  {
   "cell_type": "code",
   "execution_count": 119,
   "metadata": {
    "collapsed": false,
    "deletable": true,
    "editable": true
   },
   "outputs": [],
   "source": [
    "tmp = output_phi_t1.eval({phi_t1:phi_t1_minibatch})\n",
    "aa = (r_minibatch + (1-is_done_minibatch)*(gamma_*np.max(tmp,axis=1,keepdims=True)))"
   ]
  },
  {
   "cell_type": "code",
   "execution_count": 109,
   "metadata": {
    "collapsed": false,
    "deletable": true,
    "editable": true
   },
   "outputs": [
    {
     "data": {
      "text/plain": [
       "array([[ 0.1237698 ],\n",
       "       [ 0.18438816],\n",
       "       [-0.08566574],\n",
       "       [ 0.03815587],\n",
       "       [ 0.18954709],\n",
       "       [ 0.03895124],\n",
       "       [-0.06770211],\n",
       "       [ 0.11687868],\n",
       "       [ 0.0419699 ],\n",
       "       [ 0.07017124]], dtype=float32)"
      ]
     },
     "execution_count": 109,
     "metadata": {},
     "output_type": "execute_result"
    }
   ],
   "source": [
    "td_error.eval({phi_t_mask:mask_t_minibatch, phi_t:phi_t_minibatch})"
   ]
  },
  {
   "cell_type": "code",
   "execution_count": 120,
   "metadata": {
    "collapsed": false,
    "deletable": true,
    "editable": true
   },
   "outputs": [],
   "source": [
    "tmp = output_phi_t.eval({phi_t:phi_t_minibatch})\n",
    "bb = (mask_t_minibatch*tmp).sum(axis=1,keepdims=True)"
   ]
  },
  {
   "cell_type": "code",
   "execution_count": 121,
   "metadata": {
    "collapsed": false,
    "deletable": true,
    "editable": true
   },
   "outputs": [
    {
     "data": {
      "text/plain": [
       "array([[ 0.1749147 ],\n",
       "       [ 0.17619136],\n",
       "       [ 0.18252327],\n",
       "       [ 0.17567326],\n",
       "       [ 0.18510683],\n",
       "       [ 0.16705243],\n",
       "       [-0.82733715],\n",
       "       [ 0.18147129],\n",
       "       [ 0.17120881],\n",
       "       [ 0.1651081 ]], dtype=float32)"
      ]
     },
     "execution_count": 121,
     "metadata": {},
     "output_type": "execute_result"
    }
   ],
   "source": [
    "aa"
   ]
  },
  {
   "cell_type": "code",
   "execution_count": 122,
   "metadata": {
    "collapsed": false,
    "deletable": true,
    "editable": true
   },
   "outputs": [
    {
     "data": {
      "text/plain": [
       "array([[ 0.1237698 ],\n",
       "       [ 0.18438816],\n",
       "       [-0.08566574],\n",
       "       [ 0.03815587],\n",
       "       [ 0.18954709],\n",
       "       [ 0.03895124],\n",
       "       [-0.06770211],\n",
       "       [ 0.11687868],\n",
       "       [ 0.0419699 ],\n",
       "       [ 0.07017124]], dtype=float32)"
      ]
     },
     "execution_count": 122,
     "metadata": {},
     "output_type": "execute_result"
    }
   ],
   "source": [
    "bb"
   ]
  },
  {
   "cell_type": "code",
   "execution_count": 125,
   "metadata": {
    "collapsed": false,
    "deletable": true,
    "editable": true
   },
   "outputs": [
    {
     "data": {
      "text/plain": [
       "0.071688227"
      ]
     },
     "execution_count": 125,
     "metadata": {},
     "output_type": "execute_result"
    }
   ],
   "source": [
    "((aa-bb)**2).mean()"
   ]
  },
  {
   "cell_type": "markdown",
   "metadata": {
    "collapsed": true,
    "deletable": true,
    "editable": true
   },
   "source": [
    "----------"
   ]
  },
  {
   "cell_type": "code",
   "execution_count": 129,
   "metadata": {
    "collapsed": false
   },
   "outputs": [
    {
     "name": "stdout",
     "output_type": "stream",
     "text": [
      "<lasagne.layers.input.InputLayer object at 0x7f71e9d4d810> (None, 4, 80, 80)\n",
      "<lasagne.layers.conv.Conv2DLayer object at 0x7f71e9d4dad0> (None, 16, 19, 19)\n",
      "<lasagne.layers.conv.Conv2DLayer object at 0x7f71e9d4dd10> (None, 32, 8, 8)\n",
      "<lasagne.layers.dense.DenseLayer object at 0x7f71e9d5a050> (None, 256)\n",
      "<lasagne.layers.dense.DenseLayer object at 0x7f71e9d5a410> (None, 6)\n"
     ]
    }
   ],
   "source": [
    "l_out = dqn_paper_net(env)\n",
    "for layer in get_all_layers(l_out):\n",
    "    print layer, layer.output_shape"
   ]
  },
  {
   "cell_type": "code",
   "execution_count": 192,
   "metadata": {
    "collapsed": false
   },
   "outputs": [
    {
     "data": {
      "text/plain": [
       "(None, 16, 20, 20)"
      ]
     },
     "execution_count": 192,
     "metadata": {},
     "output_type": "execute_result"
    }
   ],
   "source": [
    "l_deconv1 = Deconv2DLayer(l_out.input_layer.input_layer, num_filters=16, filter_size=8, stride=2, crop=1)\n",
    "l_deconv1.output_shape"
   ]
  },
  {
   "cell_type": "code",
   "execution_count": 194,
   "metadata": {
    "collapsed": false
   },
   "outputs": [
    {
     "data": {
      "text/plain": [
       "(None, 4, 80, 80)"
      ]
     },
     "execution_count": 194,
     "metadata": {},
     "output_type": "execute_result"
    }
   ],
   "source": [
    "l_deconv2 = Deconv2DLayer(l_deconv1, num_filters=4, filter_size=4, stride=4)\n",
    "l_deconv2.output_shape"
   ]
  },
  {
   "cell_type": "code",
   "execution_count": 199,
   "metadata": {
    "collapsed": false
   },
   "outputs": [
    {
     "data": {
      "text/plain": [
       "33792"
      ]
     },
     "execution_count": 199,
     "metadata": {},
     "output_type": "execute_result"
    }
   ],
   "source": [
    "np.prod( l_deconv1.W.get_value().shape ) + np.prod( l_deconv2.W.get_value().shape )"
   ]
  },
  {
   "cell_type": "code",
   "execution_count": 180,
   "metadata": {
    "collapsed": false
   },
   "outputs": [
    {
     "data": {
      "text/plain": [
       "(None, 32, 8, 8)"
      ]
     },
     "execution_count": 180,
     "metadata": {},
     "output_type": "execute_result"
    }
   ],
   "source": [
    "l_out.input_layer.input_layer.output_shape"
   ]
  },
  {
   "cell_type": "markdown",
   "metadata": {},
   "source": [
    "Define a two-armed architecture"
   ]
  },
  {
   "cell_type": "code",
   "execution_count": 19,
   "metadata": {
    "collapsed": true
   },
   "outputs": [],
   "source": [
    "def dqn_paper_net_fp(env, args={}):\n",
    "    def batch_norm_or_not(layer, bn):\n",
    "        if bn:\n",
    "            return batch_norm(layer)\n",
    "        else:\n",
    "            return layer\n",
    "    nonlinearity = rectify if \"nonlinearity\" not in args else args[\"nonlinearity\"]\n",
    "    bn = True if \"batch_norm\" in args else False\n",
    "    #height, width, nchannels = env.observation_space.shape\n",
    "    outs = {}\n",
    "    height, width = 80, 80\n",
    "    nchannels = 4 # we convert to black and white and use 4 prev frames\n",
    "    layer = InputLayer((None, nchannels, height, width))\n",
    "    layer = batch_norm_or_not(Conv2DLayer(layer, filter_size=8, num_filters=16, stride=4, nonlinearity=nonlinearity), bn)\n",
    "    layer = batch_norm_or_not(Conv2DLayer(layer, filter_size=4, num_filters=32, stride=2, nonlinearity=nonlinearity), bn)\n",
    "    # Q branch\n",
    "    q = DenseLayer(layer, num_units=256, nonlinearity=nonlinearity)  # no bn for a reason\n",
    "    q = DenseLayer(q, num_units=env.action_space.n, nonlinearity=linear)\n",
    "    # future prediction\n",
    "    fp = batch_norm_or_not(Deconv2DLayer(layer, num_filters=16, filter_size=8, stride=2, crop=1), bn)\n",
    "    fp = batch_norm_or_not(Deconv2DLayer(fp, num_filters=4, filter_size=4, stride=4, nonlinearity=sigmoid), bn)\n",
    "    return {\n",
    "        \"q\": q,\n",
    "        \"fp\": fp\n",
    "    }\n"
   ]
  },
  {
   "cell_type": "code",
   "execution_count": 20,
   "metadata": {
    "collapsed": false
   },
   "outputs": [
    {
     "name": "stdout",
     "output_type": "stream",
     "text": [
      "<lasagne.layers.input.InputLayer object at 0x7f7467fa9f10> (None, 4, 80, 80)\n",
      "<lasagne.layers.conv.Conv2DLayer object at 0x7f7467fa9f90> (None, 16, 19, 19)\n",
      "<lasagne.layers.normalization.BatchNormLayer object at 0x7f7467ff9cd0> (None, 16, 19, 19)\n",
      "<lasagne.layers.special.NonlinearityLayer object at 0x7f7467fba8d0> (None, 16, 19, 19)\n",
      "<lasagne.layers.conv.Conv2DLayer object at 0x7f7467a150d0> (None, 32, 8, 8)\n",
      "<lasagne.layers.normalization.BatchNormLayer object at 0x7f7467a15450> (None, 32, 8, 8)\n",
      "<lasagne.layers.special.NonlinearityLayer object at 0x7f7467a15910> (None, 32, 8, 8)\n",
      "<lasagne.layers.dense.DenseLayer object at 0x7f7467a15ad0> (None, 256)\n",
      "<lasagne.layers.dense.DenseLayer object at 0x7f7467a15cd0> (None, 6)\n"
     ]
    }
   ],
   "source": [
    "for layer in get_all_layers(dqn_paper_net_fp(env, {\"batch_norm\":True})[\"q\"]):\n",
    "    print layer, layer.output_shape"
   ]
  },
  {
   "cell_type": "code",
   "execution_count": 21,
   "metadata": {
    "collapsed": false
   },
   "outputs": [
    {
     "name": "stdout",
     "output_type": "stream",
     "text": [
      "<lasagne.layers.input.InputLayer object at 0x7f7467f7c750> (None, 4, 80, 80)\n",
      "<lasagne.layers.conv.Conv2DLayer object at 0x7f7467fc8610> (None, 16, 19, 19)\n",
      "<lasagne.layers.normalization.BatchNormLayer object at 0x7f7467f74ed0> (None, 16, 19, 19)\n",
      "<lasagne.layers.special.NonlinearityLayer object at 0x7f7467a35c50> (None, 16, 19, 19)\n",
      "<lasagne.layers.conv.Conv2DLayer object at 0x7f7467a35e10> (None, 32, 8, 8)\n",
      "<lasagne.layers.normalization.BatchNormLayer object at 0x7f7467a35fd0> (None, 32, 8, 8)\n",
      "<lasagne.layers.special.NonlinearityLayer object at 0x7f7467a1a610> (None, 32, 8, 8)\n",
      "<lasagne.layers.conv.TransposedConv2DLayer object at 0x7f7467a1ad50> (None, 16, 20, 20)\n",
      "<lasagne.layers.normalization.BatchNormLayer object at 0x7f7467a1f1d0> (None, 16, 20, 20)\n",
      "<lasagne.layers.special.NonlinearityLayer object at 0x7f7467a1f6d0> (None, 16, 20, 20)\n",
      "<lasagne.layers.conv.TransposedConv2DLayer object at 0x7f7467a1f890> (None, 4, 80, 80)\n",
      "<lasagne.layers.normalization.BatchNormLayer object at 0x7f7467a1fb50> (None, 4, 80, 80)\n",
      "<lasagne.layers.special.NonlinearityLayer object at 0x7f7467a2b090> (None, 4, 80, 80)\n"
     ]
    }
   ],
   "source": [
    "for layer in get_all_layers(dqn_paper_net_fp(env, {\"batch_norm\":True})[\"fp\"]):\n",
    "    print layer, layer.output_shape"
   ]
  },
  {
   "cell_type": "code",
   "execution_count": null,
   "metadata": {
    "collapsed": true
   },
   "outputs": [],
   "source": []
  }
 ],
 "metadata": {
  "kernelspec": {
   "display_name": "Python 2",
   "language": "python",
   "name": "python2"
  }
 },
 "nbformat": 4,
 "nbformat_minor": 2
}
