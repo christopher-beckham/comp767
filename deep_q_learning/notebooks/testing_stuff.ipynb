{
 "cells": [
  {
   "cell_type": "markdown",
   "metadata": {
    "deletable": true,
    "editable": true
   },
   "source": [
    "Circular buffer"
   ]
  },
  {
   "cell_type": "code",
   "execution_count": 23,
   "metadata": {
    "collapsed": false,
    "deletable": true,
    "editable": true
   },
   "outputs": [
    {
     "data": {
      "text/plain": [
       "deque([])"
      ]
     },
     "execution_count": 23,
     "metadata": {},
     "output_type": "execute_result"
    }
   ],
   "source": [
    "import collections\n",
    "buf = collections.deque(maxlen=5)\n",
    "buf"
   ]
  },
  {
   "cell_type": "markdown",
   "metadata": {
    "deletable": true,
    "editable": true
   },
   "source": [
    "we have a buffer consisting of 6 images"
   ]
  },
  {
   "cell_type": "code",
   "execution_count": 154,
   "metadata": {
    "collapsed": false,
    "deletable": true,
    "editable": true
   },
   "outputs": [
    {
     "data": {
      "text/plain": [
       "[1, 2, 3, 4, 5, 6]"
      ]
     },
     "execution_count": 154,
     "metadata": {},
     "output_type": "execute_result"
    }
   ],
   "source": [
    "arr = [i+1 for i in range(6) ]\n",
    "arr"
   ]
  },
  {
   "cell_type": "markdown",
   "metadata": {
    "deletable": true,
    "editable": true
   },
   "source": [
    "we update the buffer with the 7th image (our counter is at 6)"
   ]
  },
  {
   "cell_type": "code",
   "execution_count": 155,
   "metadata": {
    "collapsed": false,
    "deletable": true,
    "editable": true
   },
   "outputs": [
    {
     "data": {
      "text/plain": [
       "[7, 2, 3, 4, 5, 6]"
      ]
     },
     "execution_count": 155,
     "metadata": {},
     "output_type": "execute_result"
    }
   ],
   "source": [
    "ctr = 6\n",
    "arr[ctr % len(arr)] = 7\n",
    "arr"
   ]
  },
  {
   "cell_type": "markdown",
   "metadata": {
    "deletable": true,
    "editable": true
   },
   "source": [
    "i want to get the last 4 items"
   ]
  },
  {
   "cell_type": "code",
   "execution_count": 160,
   "metadata": {
    "collapsed": false,
    "deletable": true,
    "editable": true
   },
   "outputs": [
    {
     "name": "stdout",
     "output_type": "stream",
     "text": [
      "7 6 5 4\n"
     ]
    }
   ],
   "source": [
    "print arr[ctr % len(arr)], arr[ (ctr-1) % len(arr) ], arr[ (ctr-2) % len(arr) ], arr[ (ctr-3) % len(arr) ]"
   ]
  },
  {
   "cell_type": "code",
   "execution_count": 165,
   "metadata": {
    "collapsed": false,
    "deletable": true,
    "editable": true
   },
   "outputs": [
    {
     "data": {
      "text/plain": [
       "[7, 8, 3, 4, 5, 6]"
      ]
     },
     "execution_count": 165,
     "metadata": {},
     "output_type": "execute_result"
    }
   ],
   "source": [
    "#we get another image and add it\n",
    "ctr += 1\n",
    "arr[ctr % len(arr)] = 8\n",
    "arr"
   ]
  },
  {
   "cell_type": "code",
   "execution_count": 167,
   "metadata": {
    "collapsed": false,
    "deletable": true,
    "editable": true
   },
   "outputs": [
    {
     "name": "stdout",
     "output_type": "stream",
     "text": [
      "8 7 6 5\n"
     ]
    }
   ],
   "source": [
    "# get the last 4 items\n",
    "print arr[ctr % len(arr)], arr[ (ctr-1) % len(arr) ], arr[ (ctr-2) % len(arr) ], arr[ (ctr-3) % len(arr) ]"
   ]
  },
  {
   "cell_type": "code",
   "execution_count": 170,
   "metadata": {
    "collapsed": false,
    "deletable": true,
    "editable": true
   },
   "outputs": [
    {
     "data": {
      "text/plain": [
       "1"
      ]
     },
     "execution_count": 170,
     "metadata": {},
     "output_type": "execute_result"
    }
   ],
   "source": [
    "ctr % len(arr)"
   ]
  },
  {
   "cell_type": "markdown",
   "metadata": {
    "deletable": true,
    "editable": true
   },
   "source": [
    "question: what if ctr overflows?? should we just set it to 0 provided when ctr % len(arr) == 0 as well??"
   ]
  },
  {
   "cell_type": "markdown",
   "metadata": {
    "deletable": true,
    "editable": true
   },
   "source": [
    "----------"
   ]
  },
  {
   "cell_type": "code",
   "execution_count": 1,
   "metadata": {
    "collapsed": true,
    "deletable": true,
    "editable": true
   },
   "outputs": [],
   "source": [
    "import matplotlib.pyplot as plt\n",
    "%matplotlib inline\n",
    "import numpy as np"
   ]
  },
  {
   "cell_type": "code",
   "execution_count": 2,
   "metadata": {
    "collapsed": false,
    "deletable": true,
    "editable": true
   },
   "outputs": [
    {
     "name": "stderr",
     "output_type": "stream",
     "text": [
      "[2017-03-29 11:48:34,452] Making new env: Pong-v0\n"
     ]
    },
    {
     "name": "stdout",
     "output_type": "stream",
     "text": [
      "Discrete(6)\n",
      "Box(210, 160, 3)\n"
     ]
    }
   ],
   "source": [
    "import gym\n",
    "env = gym.make('Pong-v0')\n",
    "print(env.action_space)\n",
    "print(env.observation_space)"
   ]
  },
  {
   "cell_type": "code",
   "execution_count": 5,
   "metadata": {
    "collapsed": false,
    "deletable": true,
    "editable": true
   },
   "outputs": [
    {
     "data": {
      "text/plain": [
       "array([[[  0,   0,   0],\n",
       "        [  0,   0,   0],\n",
       "        [  0,   0,   0],\n",
       "        ..., \n",
       "        [109, 118,  43],\n",
       "        [109, 118,  43],\n",
       "        [109, 118,  43]],\n",
       "\n",
       "       [[109, 118,  43],\n",
       "        [109, 118,  43],\n",
       "        [109, 118,  43],\n",
       "        ..., \n",
       "        [109, 118,  43],\n",
       "        [109, 118,  43],\n",
       "        [109, 118,  43]],\n",
       "\n",
       "       [[109, 118,  43],\n",
       "        [109, 118,  43],\n",
       "        [109, 118,  43],\n",
       "        ..., \n",
       "        [109, 118,  43],\n",
       "        [109, 118,  43],\n",
       "        [109, 118,  43]],\n",
       "\n",
       "       ..., \n",
       "       [[ 53,  95,  24],\n",
       "        [ 53,  95,  24],\n",
       "        [ 53,  95,  24],\n",
       "        ..., \n",
       "        [ 53,  95,  24],\n",
       "        [ 53,  95,  24],\n",
       "        [ 53,  95,  24]],\n",
       "\n",
       "       [[ 53,  95,  24],\n",
       "        [ 53,  95,  24],\n",
       "        [ 53,  95,  24],\n",
       "        ..., \n",
       "        [ 53,  95,  24],\n",
       "        [ 53,  95,  24],\n",
       "        [ 53,  95,  24]],\n",
       "\n",
       "       [[ 53,  95,  24],\n",
       "        [ 53,  95,  24],\n",
       "        [ 53,  95,  24],\n",
       "        ..., \n",
       "        [ 53,  95,  24],\n",
       "        [ 53,  95,  24],\n",
       "        [ 53,  95,  24]]], dtype=uint8)"
      ]
     },
     "execution_count": 5,
     "metadata": {},
     "output_type": "execute_result"
    }
   ],
   "source": [
    "env.reset()"
   ]
  },
  {
   "cell_type": "code",
   "execution_count": 6,
   "metadata": {
    "collapsed": false,
    "deletable": true,
    "editable": true
   },
   "outputs": [],
   "source": [
    "obs, reward, done, info = env.step(0)"
   ]
  },
  {
   "cell_type": "code",
   "execution_count": 7,
   "metadata": {
    "collapsed": false,
    "deletable": true,
    "editable": true
   },
   "outputs": [
    {
     "data": {
      "text/plain": [
       "<matplotlib.image.AxesImage at 0x7fdb417bd850>"
      ]
     },
     "execution_count": 7,
     "metadata": {},
     "output_type": "execute_result"
    },
    {
     "data": {
      "image/png": "[encoded data removed]",
      "text/plain": [
       "<matplotlib.figure.Figure at 0x7fdb41d1ffd0>"
      ]
     },
     "metadata": {},
     "output_type": "display_data"
    }
   ],
   "source": [
    "plt.imshow(obs)"
   ]
  },
  {
   "cell_type": "code",
   "execution_count": 8,
   "metadata": {
    "collapsed": true
   },
   "outputs": [],
   "source": [
    "from skimage import img_as_ubyte, img_as_float\n",
    "from skimage.color import rgb2gray"
   ]
  },
  {
   "cell_type": "code",
   "execution_count": 13,
   "metadata": {
    "collapsed": false
   },
   "outputs": [
    {
     "data": {
      "text/plain": [
       "<matplotlib.image.AxesImage at 0x7fdb3c1ce950>"
      ]
     },
     "execution_count": 13,
     "metadata": {},
     "output_type": "execute_result"
    },
    {
     "data": {
      "image/png": "[encoded data removed]",
      "text/plain": [
       "<matplotlib.figure.Figure at 0x7fdb3c325610>"
      ]
     },
     "metadata": {},
     "output_type": "display_data"
    }
   ],
   "source": [
    "plt.imshow(img_as_float(img_as_ubyte(rgb2gray(obs))),cmap=\"gray\")"
   ]
  },
  {
   "cell_type": "code",
   "execution_count": 6,
   "metadata": {
    "collapsed": false,
    "deletable": true,
    "editable": true
   },
   "outputs": [
    {
     "data": {
      "text/plain": [
       "<matplotlib.image.AxesImage at 0x1147c5fd0>"
      ]
     },
     "execution_count": 6,
     "metadata": {},
     "output_type": "execute_result"
    },
    {
     "data": {
      "image/png": "[encoded data removed]",
      "text/plain": [
       "<matplotlib.figure.Figure at 0x11473a350>"
      ]
     },
     "metadata": {},
     "output_type": "display_data"
    }
   ],
   "source": [
    "img = np.transpose(obs, (2, 0, 1))\n",
    "plt.imshow(img[2])"
   ]
  },
  {
   "cell_type": "code",
   "execution_count": 7,
   "metadata": {
    "collapsed": false,
    "deletable": true,
    "editable": true
   },
   "outputs": [
    {
     "data": {
      "text/plain": [
       "((1, 210, 160), (3, 210, 160))"
      ]
     },
     "execution_count": 7,
     "metadata": {},
     "output_type": "execute_result"
    }
   ],
   "source": [
    "np.mean(img, axis=0, keepdims=True).shape, img.shape"
   ]
  },
  {
   "cell_type": "code",
   "execution_count": 8,
   "metadata": {
    "collapsed": false,
    "deletable": true,
    "editable": true
   },
   "outputs": [
    {
     "data": {
      "text/plain": [
       "(5, 3, 210, 160)"
      ]
     },
     "execution_count": 8,
     "metadata": {},
     "output_type": "execute_result"
    }
   ],
   "source": [
    "img_batch = np.asarray([img,img,img,img,img])\n",
    "img_batch = img_batch.astype(\"float32\")\n",
    "img_batch.shape"
   ]
  },
  {
   "cell_type": "code",
   "execution_count": 9,
   "metadata": {
    "collapsed": false,
    "deletable": true,
    "editable": true
   },
   "outputs": [
    {
     "name": "stderr",
     "output_type": "stream",
     "text": [
      "Using Theano backend.\n"
     ]
    }
   ],
   "source": [
    "import os\n",
    "os.environ[\"HDF5_DISABLE_VERSION_CHECK\"] = \"1\"\n",
    "from keras.preprocessing.image import ImageDataGenerator"
   ]
  },
  {
   "cell_type": "code",
   "execution_count": 10,
   "metadata": {
    "collapsed": false,
    "deletable": true,
    "editable": true
   },
   "outputs": [],
   "source": [
    "imgen = ImageDataGenerator(samplewise_center=True, samplewise_std_normalization=True)"
   ]
  },
  {
   "cell_type": "code",
   "execution_count": 11,
   "metadata": {
    "collapsed": false,
    "deletable": true,
    "editable": true
   },
   "outputs": [
    {
     "name": "stdout",
     "output_type": "stream",
     "text": [
      "(1, 3, 210, 160)\n"
     ]
    }
   ],
   "source": [
    "for x, _ in imgen.flow(np.asarray([img]), np.asarray([0])):\n",
    "    print x.shape\n",
    "    break"
   ]
  },
  {
   "cell_type": "markdown",
   "metadata": {
    "deletable": true,
    "editable": true
   },
   "source": [
    "Samplewise centering with Keras data augmentor: for an image of dim (b, f, h, w), the mean is (b, 1, h, w), i.e. we stdize over the feature map axis. For feature-wise, we also do the mean over bs axis."
   ]
  },
  {
   "cell_type": "code",
   "execution_count": 12,
   "metadata": {
    "collapsed": false,
    "deletable": true,
    "editable": true
   },
   "outputs": [
    {
     "data": {
      "text/plain": [
       "<matplotlib.image.AxesImage at 0x11d84b450>"
      ]
     },
     "execution_count": 12,
     "metadata": {},
     "output_type": "execute_result"
    },
    {
     "data": {
      "image/png": "[encoded data removed]",
      "text/plain": [
       "<matplotlib.figure.Figure at 0x114846050>"
      ]
     },
     "metadata": {},
     "output_type": "display_data"
    }
   ],
   "source": [
    "plt.imshow( imgen.standardize(img.astype(\"float32\")[0]) )"
   ]
  },
  {
   "cell_type": "markdown",
   "metadata": {
    "deletable": true,
    "editable": true
   },
   "source": [
    "The technique I have always used in the past (which I'm not sure is standard practice): the mean is (f,1), so each feature map gets a mean over all the pixels"
   ]
  },
  {
   "cell_type": "code",
   "execution_count": 13,
   "metadata": {
    "collapsed": false,
    "deletable": true,
    "editable": true
   },
   "outputs": [
    {
     "data": {
      "text/plain": [
       "<matplotlib.image.AxesImage at 0x11dca4b90>"
      ]
     },
     "execution_count": 13,
     "metadata": {},
     "output_type": "execute_result"
    },
    {
     "data": {
      "image/png": "[encoded data removed]",
      "text/plain": [
       "<matplotlib.figure.Figure at 0x114846250>"
      ]
     },
     "metadata": {},
     "output_type": "display_data"
    }
   ],
   "source": [
    "plt.imshow( (img[0] - np.mean(img[0])) / np.std(img[0]) )"
   ]
  },
  {
   "cell_type": "markdown",
   "metadata": {
    "deletable": true,
    "editable": true
   },
   "source": [
    "----------"
   ]
  },
  {
   "cell_type": "code",
   "execution_count": 14,
   "metadata": {
    "collapsed": true,
    "deletable": true,
    "editable": true
   },
   "outputs": [],
   "source": [
    "import theano\n",
    "from theano import tensor as T\n",
    "import lasagne\n",
    "from lasagne.layers import *\n",
    "from lasagne.objectives import *\n",
    "from lasagne.nonlinearities import *"
   ]
  },
  {
   "cell_type": "code",
   "execution_count": 15,
   "metadata": {
    "collapsed": true,
    "deletable": true,
    "editable": true
   },
   "outputs": [],
   "source": [
    "def q_net(env):\n",
    "    height, width, nchannels = env.observation_space.shape\n",
    "    l_in = InputLayer((None, nchannels, height, width))\n",
    "    l_conv = Conv2DLayer(l_in, num_filters=32, filter_size=3, stride=2)\n",
    "    l_conv2 = Conv2DLayer(l_conv, num_filters=64, filter_size=3, stride=2)\n",
    "    l_conv3 = Conv2DLayer(l_conv2, num_filters=96, filter_size=3, stride=2)\n",
    "    l_conv4 = Conv2DLayer(l_conv3, num_filters=128, filter_size=3, stride=2)\n",
    "    l_dense = DenseLayer(l_conv4, num_units=env.action_space.n)\n",
    "    return l_dense"
   ]
  },
  {
   "cell_type": "code",
   "execution_count": 16,
   "metadata": {
    "collapsed": false,
    "deletable": true,
    "editable": true
   },
   "outputs": [],
   "source": [
    "X = T.tensor4('X')\n",
    "y = T.fmatrix('y') # this is a row column\n",
    "action_mask = T.fmatrix('action_mask')"
   ]
  },
  {
   "cell_type": "code",
   "execution_count": 17,
   "metadata": {
    "collapsed": false,
    "deletable": true,
    "editable": true
   },
   "outputs": [
    {
     "name": "stdout",
     "output_type": "stream",
     "text": [
      "268454\n",
      "<lasagne.layers.input.InputLayer object at 0x11ddd5e10> (None, 3, 210, 160)\n",
      "<lasagne.layers.conv.Conv2DLayer object at 0x11ddd5e90> (None, 32, 104, 79)\n",
      "<lasagne.layers.conv.Conv2DLayer object at 0x11dd83350> (None, 64, 51, 39)\n",
      "<lasagne.layers.conv.Conv2DLayer object at 0x11dd83650> (None, 96, 25, 19)\n",
      "<lasagne.layers.conv.Conv2DLayer object at 0x11dd83950> (None, 128, 12, 9)\n",
      "<lasagne.layers.dense.DenseLayer object at 0x11dd83c50> (None, 6)\n"
     ]
    }
   ],
   "source": [
    "l_out = q_net(env)\n",
    "print count_params(l_out)\n",
    "for layer in get_all_layers(l_out):\n",
    "    print layer, layer.output_shape"
   ]
  },
  {
   "cell_type": "code",
   "execution_count": 18,
   "metadata": {
    "collapsed": false,
    "deletable": true,
    "editable": true
   },
   "outputs": [
    {
     "data": {
      "text/plain": [
       "Elemwise{mul,no_inplace}.0"
      ]
     },
     "execution_count": 18,
     "metadata": {},
     "output_type": "execute_result"
    }
   ],
   "source": [
    "q_out = get_output(l_out, X)\n",
    "q_out"
   ]
  },
  {
   "cell_type": "markdown",
   "metadata": {
    "deletable": true,
    "editable": true
   },
   "source": [
    "Let's do an example y matrix."
   ]
  },
  {
   "cell_type": "code",
   "execution_count": 19,
   "metadata": {
    "collapsed": false,
    "deletable": true,
    "editable": true
   },
   "outputs": [
    {
     "data": {
      "text/plain": [
       "array([[ 1. ],\n",
       "       [ 2. ],\n",
       "       [ 1. ],\n",
       "       [ 3.5],\n",
       "       [ 4. ],\n",
       "       [ 1. ]])"
      ]
     },
     "execution_count": 19,
     "metadata": {},
     "output_type": "execute_result"
    }
   ],
   "source": [
    "ytest = np.asarray([[1],[2],[1],[3.5],[4],[1.]])\n",
    "ytest"
   ]
  },
  {
   "cell_type": "markdown",
   "metadata": {
    "deletable": true,
    "editable": true
   },
   "source": [
    "We now need a mask for the Q. Suppose that for the random minibatch, for the first element we selected the first action, then for the second element we selected the second action, etc...."
   ]
  },
  {
   "cell_type": "code",
   "execution_count": 20,
   "metadata": {
    "collapsed": false,
    "deletable": true,
    "editable": true
   },
   "outputs": [
    {
     "data": {
      "text/plain": [
       "array([[ 1.,  0.,  0.,  0.,  0.,  0.],\n",
       "       [ 0.,  1.,  0.,  0.,  0.,  0.],\n",
       "       [ 0.,  0.,  1.,  0.,  0.,  0.],\n",
       "       [ 0.,  0.,  0.,  1.,  0.,  0.],\n",
       "       [ 0.,  0.,  0.,  0.,  1.,  0.],\n",
       "       [ 0.,  0.,  0.,  0.,  0.,  1.]])"
      ]
     },
     "execution_count": 20,
     "metadata": {},
     "output_type": "execute_result"
    }
   ],
   "source": [
    "masktest = np.eye(6)\n",
    "masktest"
   ]
  },
  {
   "cell_type": "code",
   "execution_count": 21,
   "metadata": {
    "collapsed": false,
    "deletable": true,
    "editable": true
   },
   "outputs": [
    {
     "data": {
      "text/plain": [
       "Elemwise{sub,no_inplace}.0"
      ]
     },
     "execution_count": 21,
     "metadata": {},
     "output_type": "execute_result"
    }
   ],
   "source": [
    "loss = y - (action_mask*q_out).sum(axis=1)\n",
    "loss"
   ]
  },
  {
   "cell_type": "markdown",
   "metadata": {
    "deletable": true,
    "editable": true
   },
   "source": [
    "-------------"
   ]
  },
  {
   "cell_type": "markdown",
   "metadata": {
    "collapsed": true,
    "deletable": true,
    "editable": true
   },
   "source": [
    "Ok, write code to buffer images"
   ]
  },
  {
   "cell_type": "code",
   "execution_count": 38,
   "metadata": {
    "collapsed": true,
    "deletable": true,
    "editable": true
   },
   "outputs": [],
   "source": [
    "from skimage.color import rgb2gray"
   ]
  },
  {
   "cell_type": "code",
   "execution_count": 241,
   "metadata": {
    "collapsed": false,
    "deletable": true,
    "editable": true
   },
   "outputs": [
    {
     "name": "stderr",
     "output_type": "stream",
     "text": [
      "[2017-03-16 11:56:48,248] Making new env: Pong-v0\n"
     ]
    },
    {
     "name": "stdout",
     "output_type": "stream",
     "text": [
      "(array([[[ 0.        ,  0.        ,  0.        , ...,  0.32680196,\n",
      "          0.32680196,  0.32680196],\n",
      "        [ 0.32680196,  0.32680196,  0.32680196, ...,  0.32680196,\n",
      "          0.32680196,  0.32680196],\n",
      "        [ 0.32680196,  0.32680196,  0.32680196, ...,  0.32680196,\n",
      "          0.32680196,  0.32680196],\n",
      "        ..., \n",
      "        [ 0.9254902 ,  0.9254902 ,  0.9254902 , ...,  0.9254902 ,\n",
      "          0.9254902 ,  0.9254902 ],\n",
      "        [ 0.9254902 ,  0.9254902 ,  0.9254902 , ...,  0.9254902 ,\n",
      "          0.9254902 ,  0.9254902 ],\n",
      "        [ 0.9254902 ,  0.9254902 ,  0.9254902 , ...,  0.9254902 ,\n",
      "          0.9254902 ,  0.9254902 ]],\n",
      "\n",
      "       [[ 0.        ,  0.        ,  0.        , ...,  0.32680196,\n",
      "          0.32680196,  0.32680196],\n",
      "        [ 0.32680196,  0.32680196,  0.32680196, ...,  0.32680196,\n",
      "          0.32680196,  0.32680196],\n",
      "        [ 0.32680196,  0.32680196,  0.32680196, ...,  0.32680196,\n",
      "          0.32680196,  0.32680196],\n",
      "        ..., \n",
      "        [ 0.9254902 ,  0.9254902 ,  0.9254902 , ...,  0.9254902 ,\n",
      "          0.9254902 ,  0.9254902 ],\n",
      "        [ 0.9254902 ,  0.9254902 ,  0.9254902 , ...,  0.9254902 ,\n",
      "          0.9254902 ,  0.9254902 ],\n",
      "        [ 0.9254902 ,  0.9254902 ,  0.9254902 , ...,  0.9254902 ,\n",
      "          0.9254902 ,  0.9254902 ]],\n",
      "\n",
      "       [[ 0.        ,  0.        ,  0.        , ...,  0.32680196,\n",
      "          0.32680196,  0.32680196],\n",
      "        [ 0.32680196,  0.32680196,  0.32680196, ...,  0.32680196,\n",
      "          0.32680196,  0.32680196],\n",
      "        [ 0.32680196,  0.32680196,  0.32680196, ...,  0.32680196,\n",
      "          0.32680196,  0.32680196],\n",
      "        ..., \n",
      "        [ 0.9254902 ,  0.9254902 ,  0.9254902 , ...,  0.9254902 ,\n",
      "          0.9254902 ,  0.9254902 ],\n",
      "        [ 0.9254902 ,  0.9254902 ,  0.9254902 , ...,  0.9254902 ,\n",
      "          0.9254902 ,  0.9254902 ],\n",
      "        [ 0.9254902 ,  0.9254902 ,  0.9254902 , ...,  0.9254902 ,\n",
      "          0.9254902 ,  0.9254902 ]],\n",
      "\n",
      "       [[ 0.        ,  0.        ,  0.        , ...,  0.32680196,\n",
      "          0.32680196,  0.32680196],\n",
      "        [ 0.32680196,  0.32680196,  0.32680196, ...,  0.32680196,\n",
      "          0.32680196,  0.32680196],\n",
      "        [ 0.32680196,  0.32680196,  0.32680196, ...,  0.32680196,\n",
      "          0.32680196,  0.32680196],\n",
      "        ..., \n",
      "        [ 0.9254902 ,  0.9254902 ,  0.9254902 , ...,  0.9254902 ,\n",
      "          0.9254902 ,  0.9254902 ],\n",
      "        [ 0.9254902 ,  0.9254902 ,  0.9254902 , ...,  0.9254902 ,\n",
      "          0.9254902 ,  0.9254902 ],\n",
      "        [ 0.9254902 ,  0.9254902 ,  0.9254902 , ...,  0.9254902 ,\n",
      "          0.9254902 ,  0.9254902 ]]], dtype=float32), 3, 0.0, array([[[ 0.        ,  0.        ,  0.        , ...,  0.32680196,\n",
      "          0.32680196,  0.32680196],\n",
      "        [ 0.32680196,  0.32680196,  0.32680196, ...,  0.32680196,\n",
      "          0.32680196,  0.32680196],\n",
      "        [ 0.32680196,  0.32680196,  0.32680196, ...,  0.32680196,\n",
      "          0.32680196,  0.32680196],\n",
      "        ..., \n",
      "        [ 0.9254902 ,  0.9254902 ,  0.9254902 , ...,  0.9254902 ,\n",
      "          0.9254902 ,  0.9254902 ],\n",
      "        [ 0.9254902 ,  0.9254902 ,  0.9254902 , ...,  0.9254902 ,\n",
      "          0.9254902 ,  0.9254902 ],\n",
      "        [ 0.9254902 ,  0.9254902 ,  0.9254902 , ...,  0.9254902 ,\n",
      "          0.9254902 ,  0.9254902 ]],\n",
      "\n",
      "       [[ 0.        ,  0.        ,  0.        , ...,  0.32680196,\n",
      "          0.32680196,  0.32680196],\n",
      "        [ 0.32680196,  0.32680196,  0.32680196, ...,  0.32680196,\n",
      "          0.32680196,  0.32680196],\n",
      "        [ 0.32680196,  0.32680196,  0.32680196, ...,  0.32680196,\n",
      "          0.32680196,  0.32680196],\n",
      "        ..., \n",
      "        [ 0.9254902 ,  0.9254902 ,  0.9254902 , ...,  0.9254902 ,\n",
      "          0.9254902 ,  0.9254902 ],\n",
      "        [ 0.9254902 ,  0.9254902 ,  0.9254902 , ...,  0.9254902 ,\n",
      "          0.9254902 ,  0.9254902 ],\n",
      "        [ 0.9254902 ,  0.9254902 ,  0.9254902 , ...,  0.9254902 ,\n",
      "          0.9254902 ,  0.9254902 ]],\n",
      "\n",
      "       [[ 0.        ,  0.        ,  0.        , ...,  0.32680196,\n",
      "          0.32680196,  0.32680196],\n",
      "        [ 0.32680196,  0.32680196,  0.32680196, ...,  0.32680196,\n",
      "          0.32680196,  0.32680196],\n",
      "        [ 0.32680196,  0.32680196,  0.32680196, ...,  0.32680196,\n",
      "          0.32680196,  0.32680196],\n",
      "        ..., \n",
      "        [ 0.9254902 ,  0.9254902 ,  0.9254902 , ...,  0.9254902 ,\n",
      "          0.9254902 ,  0.9254902 ],\n",
      "        [ 0.9254902 ,  0.9254902 ,  0.9254902 , ...,  0.9254902 ,\n",
      "          0.9254902 ,  0.9254902 ],\n",
      "        [ 0.9254902 ,  0.9254902 ,  0.9254902 , ...,  0.9254902 ,\n",
      "          0.9254902 ,  0.9254902 ]],\n",
      "\n",
      "       [[ 0.        ,  0.        ,  0.        , ...,  0.32680196,\n",
      "          0.32680196,  0.32680196],\n",
      "        [ 0.32680196,  0.32680196,  0.32680196, ...,  0.32680196,\n",
      "          0.32680196,  0.32680196],\n",
      "        [ 0.32680196,  0.32680196,  0.32680196, ...,  0.32680196,\n",
      "          0.32680196,  0.32680196],\n",
      "        ..., \n",
      "        [ 0.9254902 ,  0.9254902 ,  0.9254902 , ...,  0.9254902 ,\n",
      "          0.9254902 ,  0.9254902 ],\n",
      "        [ 0.9254902 ,  0.9254902 ,  0.9254902 , ...,  0.9254902 ,\n",
      "          0.9254902 ,  0.9254902 ],\n",
      "        [ 0.9254902 ,  0.9254902 ,  0.9254902 , ...,  0.9254902 ,\n",
      "          0.9254902 ,  0.9254902 ]]], dtype=float32))\n"
     ]
    }
   ],
   "source": [
    "env = gym.make('Pong-v0')\n",
    "buf_maxlen = 4\n",
    "buf = []\n",
    "buf_idx = []\n",
    "experience = []\n",
    "for t in range(10000):\n",
    "    # if the buffer is not at max length, do random actions\n",
    "    # to fill it up\n",
    "    if len(buf) != buf_maxlen:\n",
    "        a_t = env.action_space.sample()\n",
    "        x, _, _, _ = env.step(a_t)\n",
    "        buf.append(rgb2gray(x))\n",
    "        buf_idx.append(t)\n",
    "    else:\n",
    "        # phi_t is going to be the 4 most recent frames\n",
    "        phi_t = np.asarray([\n",
    "            buf[(t-1-3)%len(buf)], \n",
    "            buf[(t-1-2)%len(buf)], \n",
    "            buf[(t-1-1)%len(buf)], \n",
    "            buf[(t-1-0)%len(buf)]\n",
    "        ]).astype(\"float32\")\n",
    "        debug_t = [buf_idx[(t-1-3)%len(buf_idx)], \n",
    "                   buf_idx[(t-1-2)%len(buf_idx)], \n",
    "                   buf_idx[(t-1-1)%len(buf_idx)], \n",
    "                   buf_idx[(t-1-0)%len(buf_idx)]]\n",
    "        # with probability eps, select a random action\n",
    "        a_t = env.action_space.sample()\n",
    "        # execute action a_t in emulator and observe reward r_t and image x_t+1\n",
    "        x_t1, r_t, is_done, info = env.step(a_t)\n",
    "        # insert x_t+1 into the buffer, then grab the next\n",
    "        # 4 most recent frames\n",
    "        if not is_done:\n",
    "            buf[ (t) % len(buf) ] = rgb2gray(x_t1)\n",
    "            buf_idx[ (t) % len(buf) ] = t\n",
    "            phi_t1 = np.asarray([\n",
    "                buf[(t-3)%len(buf)], \n",
    "                buf[(t-2)%len(buf)], \n",
    "                buf[(t-1)%len(buf)], \n",
    "                buf[(t-0)%len(buf)]\n",
    "            ]).astype(\"float32\")\n",
    "            debug_t1 = [buf_idx[(t-3)%len(buf_idx)], \n",
    "                       buf_idx[(t-2)%len(buf_idx)], \n",
    "                       buf_idx[(t-1)%len(buf_idx)], \n",
    "                       buf_idx[(t-0)%len(buf_idx)]]\n",
    "        else:\n",
    "            phi_t1 = None\n",
    "        #print debug_t, debug_t1\n",
    "        # add this tuple to the experience buffer\n",
    "        experience.append( (phi_t, a_t, r_t, phi_t1) )\n",
    "        # sample from random experience from the buffer\n",
    "        some_tp = experience[ np.random.randint(0, len(experience)) ]\n",
    "        if is_done:\n",
    "            ytarget = some_tp[2]\n",
    "        else:\n",
    "            ytarget = some_tp[2] + gamma*1 # todo: add Q\n",
    "        \n",
    "        \n",
    "        break"
   ]
  },
  {
   "cell_type": "markdown",
   "metadata": {
    "deletable": true,
    "editable": true
   },
   "source": [
    "----------"
   ]
  },
  {
   "cell_type": "code",
   "execution_count": 225,
   "metadata": {
    "collapsed": true,
    "deletable": true,
    "editable": true
   },
   "outputs": [],
   "source": [
    "def test_cycle(buf, maxlen):\n",
    "    for t in range(0, 10):\n",
    "        # fill up the buffer if it ain't full\n",
    "        if len(buf) != maxlen:\n",
    "            buf.append(t)\n",
    "            print buf\n",
    "        else:\n",
    "            #print buf\n",
    "            #print t\n",
    "            s_t = (\n",
    "                buf[(t-1-3)%len(buf)], \n",
    "                buf[(t-1-2)%len(buf)], \n",
    "                buf[(t-1-1)%len(buf)], \n",
    "                buf[(t-1-0)%len(buf)]\n",
    "            )\n",
    "            buf[ (t) % len(buf) ] = t\n",
    "            #print buf\n",
    "            s_t1 = (\n",
    "                buf[(t-3)%len(buf)], \n",
    "                buf[(t-2)%len(buf)], \n",
    "                buf[(t-1)%len(buf)], \n",
    "                buf[(t-0)%len(buf)]\n",
    "            )\n",
    "            print s_t, s_t1\n"
   ]
  },
  {
   "cell_type": "code",
   "execution_count": 226,
   "metadata": {
    "collapsed": false,
    "deletable": true,
    "editable": true
   },
   "outputs": [
    {
     "name": "stdout",
     "output_type": "stream",
     "text": [
      "[0]\n",
      "[0, 1]\n",
      "[0, 1, 2]\n",
      "[0, 1, 2, 3]\n",
      "(0, 1, 2, 3) (1, 2, 3, 4)\n",
      "(1, 2, 3, 4) (2, 3, 4, 5)\n",
      "(2, 3, 4, 5) (3, 4, 5, 6)\n",
      "(3, 4, 5, 6) (4, 5, 6, 7)\n",
      "(4, 5, 6, 7) (5, 6, 7, 8)\n",
      "(5, 6, 7, 8) (6, 7, 8, 9)\n"
     ]
    }
   ],
   "source": [
    "test_cycle([], 4)"
   ]
  },
  {
   "cell_type": "code",
   "execution_count": null,
   "metadata": {
    "collapsed": true,
    "deletable": true,
    "editable": true
   },
   "outputs": [],
   "source": []
  }
 ],
 "metadata": {
  "kernelspec": {
   "display_name": "Python 2",
   "language": "python",
   "name": "python2"
  },
  "language_info": {
   "codemirror_mode": {
    "name": "ipython",
    "version": 2
   },
   "file_extension": ".py",
   "mimetype": "text/x-python",
   "name": "python",
   "nbconvert_exporter": "python",
   "pygments_lexer": "ipython2",
   "version": "2.7.13"
  }
 },
 "nbformat": 4,
 "nbformat_minor": 2
}
